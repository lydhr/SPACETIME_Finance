{
 "cells": [
  {
   "cell_type": "code",
   "execution_count": 2,
   "metadata": {},
   "outputs": [
    {
     "name": "stdout",
     "output_type": "stream",
     "text": [
      "# conda environments:\r\n",
      "#\r\n",
      "base                     /home/liyin/anaconda3\r\n",
      "pos                      /home/liyin/anaconda3/envs/pos\r\n",
      "spacetime             *  /home/liyin/anaconda3/envs/spacetime\r\n",
      "\r\n"
     ]
    }
   ],
   "source": [
    "!conda env list"
   ]
  },
  {
   "cell_type": "markdown",
   "metadata": {
    "id": "Y1qkMgpP0PKJ"
   },
   "source": [
    "# SpaceTime 🌌⏱️ Demo - S&P 500 Price Forecasting + Trading\n",
    "\n",
    "A quick demo and walkthrough of SpaceTime, using S&P 500 index prices as a sample dataset.  \n",
    "* In Part 1, we'll walkthrough how to train SpaceTime models for forecasting, aiming to predict future S&P 500 index prices.  \n",
    "* In Part 2, we'll create a simple trading bot using these forecasts. \n",
    "\n",
    "None of this is financial advice!"
   ]
  },
  {
   "cell_type": "markdown",
   "metadata": {
    "id": "ZEbyiZdd0Sp_"
   },
   "source": [
    "### Setup"
   ]
  },
  {
   "cell_type": "code",
   "execution_count": 3,
   "metadata": {
    "colab": {
     "background_save": true,
     "base_uri": "https://localhost:8080/"
    },
    "id": "nFZrL-ne0dou",
    "outputId": "1f8ec4b6-f4e0-47f2-de20-bc404c09ed69"
   },
   "outputs": [
    {
     "name": "stdout",
     "output_type": "stream",
     "text": [
      "spacetime  spacetime_demo_v2.ipynb\r\n"
     ]
    }
   ],
   "source": [
    "# Install SpaceTime code\n",
    "# !git clone https://github.com/HazyResearch/spacetime.git\n",
    "!ls"
   ]
  },
  {
   "cell_type": "code",
   "execution_count": 4,
   "metadata": {
    "colab": {
     "background_save": true
    },
    "id": "6lGWO5Kj0g7a"
   },
   "outputs": [],
   "source": [
    "# General Setup\n",
    "import os\n",
    "import sys\n",
    "\n",
    "from os.path import join\n",
    "\n",
    "# Local imports from spacetime\n",
    "project_dir = './spacetime'\n",
    "sys.path.insert(0, os.path.abspath(project_dir)) "
   ]
  },
  {
   "cell_type": "code",
   "execution_count": 5,
   "metadata": {
    "colab": {
     "background_save": true
    },
    "id": "dO9iLnnf1zec"
   },
   "outputs": [],
   "source": [
    "# The data science trinity, we might not use all of them\n",
    "import pandas as pd\n",
    "import numpy as np\n",
    "import matplotlib.pyplot as plt"
   ]
  },
  {
   "cell_type": "code",
   "execution_count": 6,
   "metadata": {
    "colab": {
     "background_save": true
    },
    "id": "BaTaaJ0n0jJF"
   },
   "outputs": [],
   "source": [
    "# Installing dependencies - as a quick hack for colab we'll just convert the \n",
    "# environment.yaml into a requirements.txt, and use pip to install everything.\n",
    "# Code below from https://gist.github.com/pemagrg1/f959c19ec18fee3ce2ff9b3b86b67c16\n",
    "import yaml\n",
    "\n",
    "with open(join(project_dir, 'environment.yaml')) as file_handle:\n",
    "    environment_data = yaml.safe_load(file_handle)\n",
    "\n",
    "requirements = []\n",
    "for dep in environment_data['dependencies']:\n",
    "    if isinstance(dep, str):\n",
    "        try:\n",
    "            package, package_version = dep.split('=')\n",
    "            package_version = f'=={package_version}'\n",
    "        except:\n",
    "            package = dep\n",
    "            package_version = ''\n",
    "        if package not in ['python', 'pip', 'jupyter', 'jupyterlab',\n",
    "                           'pytorch', 'pandas', 'numpy', 'matplotlib']:\n",
    "            requirements.append(f'{package}{package_version}')\n",
    "    elif isinstance(dep, dict):\n",
    "        for preq in dep.get('pip', []):\n",
    "            requirements.append(preq)\n",
    "\n",
    "with open('requirements.txt', 'w') as fp:\n",
    "    for requirement in requirements:\n",
    "       print(requirement, file=fp)\n"
   ]
  },
  {
   "cell_type": "code",
   "execution_count": 60,
   "metadata": {
    "colab": {
     "base_uri": "https://localhost:8080/"
    },
    "id": "hVSZcyef1j8R",
    "outputId": "0e053273-192e-47c9-d376-3751ae31cdab"
   },
   "outputs": [],
   "source": [
    "# Install dependencies\n",
    "#!pip install -r requirements.txt"
   ]
  },
  {
   "cell_type": "markdown",
   "metadata": {
    "id": "4Gg4jrgY0TLL"
   },
   "source": [
    "## Part 1: Training to forecast with SpaceTime\n",
    "\n",
    "We'll first download and setup some data via the Yahoo Finance API, showing how we can structure this data into a forecasting task and Pytorch dataloader for SpaceTime training. \n",
    "\n",
    "We'll then setup a SpaceTime model, walking through its configs and components. \n",
    "\n",
    "We'll finally train our SpaceTime model and visualize the results!"
   ]
  },
  {
   "cell_type": "code",
   "execution_count": 8,
   "metadata": {
    "id": "SXyFAdsk2L3B"
   },
   "outputs": [],
   "source": [
    "from omegaconf import OmegaConf"
   ]
  },
  {
   "cell_type": "code",
   "execution_count": 9,
   "metadata": {
    "id": "-TOyobdz2Hvg"
   },
   "outputs": [],
   "source": [
    "from utils.logging import print_config\n"
   ]
  },
  {
   "cell_type": "code",
   "execution_count": 10,
   "metadata": {
    "colab": {
     "base_uri": "https://localhost:8080/",
     "height": 67
    },
    "id": "a9AMk6Um0Qu1",
    "outputId": "795d63c7-6bcd-431e-f2e9-882ffa75d36b"
   },
   "outputs": [
    {
     "data": {
      "text/html": [
       "<pre style=\"white-space:pre;overflow-x:auto;line-height:normal;font-family:Menlo,'DejaVu Sans Mono',consolas,'Courier New',monospace\">CONFIG\n",
       "└── seed\n",
       "    └── <span style=\"background-color: #272822\">42                                                                                                         </span>\n",
       "</pre>\n"
      ],
      "text/plain": [
       "CONFIG\n",
       "└── seed\n",
       "    └── \u001b[48;2;39;40;34m42\u001b[0m\u001b[48;2;39;40;34m                                                                                                         \u001b[0m\n"
      ]
     },
     "metadata": {},
     "output_type": "display_data"
    }
   ],
   "source": [
    "# Hacky args via an OmegaConf config\n",
    "args = \"\"\"\n",
    "seed: 42\n",
    "\"\"\"\n",
    "args = OmegaConf.create(args)\n",
    "print_config(args)"
   ]
  },
  {
   "cell_type": "markdown",
   "metadata": {
    "id": "Ja9B16Fv2K8P"
   },
   "source": [
    "### Part 1.1 Data + Task\n",
    "\n",
    "#### Load and setup data\n",
    "\n",
    "We'll start out with predicting closing prices for the S&P 500."
   ]
  },
  {
   "cell_type": "code",
   "execution_count": 61,
   "metadata": {
    "colab": {
     "background_save": true,
     "base_uri": "https://localhost:8080/"
    },
    "id": "W7o4-JLF2s19",
    "outputId": "8c202dd0-cb23-4b63-e12c-6ca1172101d2"
   },
   "outputs": [],
   "source": [
    "#!pip install yfinance #yahoo market data; finance api"
   ]
  },
  {
   "cell_type": "code",
   "execution_count": 12,
   "metadata": {
    "colab": {
     "background_save": true
    },
    "id": "hAljTi-u3Qlr"
   },
   "outputs": [],
   "source": [
    "import yfinance as yf"
   ]
  },
  {
   "cell_type": "code",
   "execution_count": 13,
   "metadata": {
    "colab": {
     "background_save": true
    },
    "id": "B5w6HCam3W0-"
   },
   "outputs": [],
   "source": [
    "yf_data = yf.Ticker('^GSPC')  # Ticker for S&P 500"
   ]
  },
  {
   "cell_type": "code",
   "execution_count": 14,
   "metadata": {
    "colab": {
     "background_save": true
    },
    "id": "hNuUhbyh2vSz"
   },
   "outputs": [],
   "source": [
    "data = yf_data.history(period='max', start='1993-01-01',  # wow 30 years of data\n",
    "                       auto_adjust=True)  "
   ]
  },
  {
   "cell_type": "code",
   "execution_count": 15,
   "metadata": {
    "colab": {
     "background_save": true
    },
    "id": "Gy5hGqk73zgk"
   },
   "outputs": [],
   "source": [
    "\n",
    "df = pd.DataFrame(data).reset_index()"
   ]
  },
  {
   "cell_type": "code",
   "execution_count": 16,
   "metadata": {
    "colab": {
     "background_save": true
    },
    "id": "Cfk0-z_94EmJ",
    "outputId": "ecf0edd1-2484-4b84-c1f1-25b923c60c28"
   },
   "outputs": [
    {
     "data": {
      "text/html": [
       "<div>\n",
       "<style scoped>\n",
       "    .dataframe tbody tr th:only-of-type {\n",
       "        vertical-align: middle;\n",
       "    }\n",
       "\n",
       "    .dataframe tbody tr th {\n",
       "        vertical-align: top;\n",
       "    }\n",
       "\n",
       "    .dataframe thead th {\n",
       "        text-align: right;\n",
       "    }\n",
       "</style>\n",
       "<table border=\"1\" class=\"dataframe\">\n",
       "  <thead>\n",
       "    <tr style=\"text-align: right;\">\n",
       "      <th></th>\n",
       "      <th>Date</th>\n",
       "      <th>Open</th>\n",
       "      <th>High</th>\n",
       "      <th>Low</th>\n",
       "      <th>Close</th>\n",
       "      <th>Volume</th>\n",
       "      <th>Dividends</th>\n",
       "      <th>Stock Splits</th>\n",
       "    </tr>\n",
       "  </thead>\n",
       "  <tbody>\n",
       "    <tr>\n",
       "      <th>0</th>\n",
       "      <td>1993-01-04 00:00:00-05:00</td>\n",
       "      <td>435.700012</td>\n",
       "      <td>437.320007</td>\n",
       "      <td>434.480011</td>\n",
       "      <td>435.380005</td>\n",
       "      <td>201210000</td>\n",
       "      <td>0.0</td>\n",
       "      <td>0.0</td>\n",
       "    </tr>\n",
       "    <tr>\n",
       "      <th>1</th>\n",
       "      <td>1993-01-05 00:00:00-05:00</td>\n",
       "      <td>435.380005</td>\n",
       "      <td>435.399994</td>\n",
       "      <td>433.549988</td>\n",
       "      <td>434.339996</td>\n",
       "      <td>240350000</td>\n",
       "      <td>0.0</td>\n",
       "      <td>0.0</td>\n",
       "    </tr>\n",
       "    <tr>\n",
       "      <th>2</th>\n",
       "      <td>1993-01-06 00:00:00-05:00</td>\n",
       "      <td>434.339996</td>\n",
       "      <td>435.170013</td>\n",
       "      <td>432.519989</td>\n",
       "      <td>434.519989</td>\n",
       "      <td>295240000</td>\n",
       "      <td>0.0</td>\n",
       "      <td>0.0</td>\n",
       "    </tr>\n",
       "  </tbody>\n",
       "</table>\n",
       "</div>"
      ],
      "text/plain": [
       "                       Date        Open        High         Low       Close   \n",
       "0 1993-01-04 00:00:00-05:00  435.700012  437.320007  434.480011  435.380005  \\\n",
       "1 1993-01-05 00:00:00-05:00  435.380005  435.399994  433.549988  434.339996   \n",
       "2 1993-01-06 00:00:00-05:00  434.339996  435.170013  432.519989  434.519989   \n",
       "\n",
       "      Volume  Dividends  Stock Splits  \n",
       "0  201210000        0.0           0.0  \n",
       "1  240350000        0.0           0.0  \n",
       "2  295240000        0.0           0.0  "
      ]
     },
     "metadata": {},
     "output_type": "display_data"
    },
    {
     "data": {
      "text/html": [
       "<div>\n",
       "<style scoped>\n",
       "    .dataframe tbody tr th:only-of-type {\n",
       "        vertical-align: middle;\n",
       "    }\n",
       "\n",
       "    .dataframe tbody tr th {\n",
       "        vertical-align: top;\n",
       "    }\n",
       "\n",
       "    .dataframe thead th {\n",
       "        text-align: right;\n",
       "    }\n",
       "</style>\n",
       "<table border=\"1\" class=\"dataframe\">\n",
       "  <thead>\n",
       "    <tr style=\"text-align: right;\">\n",
       "      <th></th>\n",
       "      <th>Date</th>\n",
       "      <th>Open</th>\n",
       "      <th>High</th>\n",
       "      <th>Low</th>\n",
       "      <th>Close</th>\n",
       "      <th>Volume</th>\n",
       "      <th>Dividends</th>\n",
       "      <th>Stock Splits</th>\n",
       "    </tr>\n",
       "  </thead>\n",
       "  <tbody>\n",
       "    <tr>\n",
       "      <th>7638</th>\n",
       "      <td>2023-05-03 00:00:00-04:00</td>\n",
       "      <td>4122.250000</td>\n",
       "      <td>4148.299805</td>\n",
       "      <td>4088.860107</td>\n",
       "      <td>4090.750000</td>\n",
       "      <td>4246510000</td>\n",
       "      <td>0.0</td>\n",
       "      <td>0.0</td>\n",
       "    </tr>\n",
       "    <tr>\n",
       "      <th>7639</th>\n",
       "      <td>2023-05-04 00:00:00-04:00</td>\n",
       "      <td>4082.550049</td>\n",
       "      <td>4082.610107</td>\n",
       "      <td>4048.280029</td>\n",
       "      <td>4061.219971</td>\n",
       "      <td>4920090000</td>\n",
       "      <td>0.0</td>\n",
       "      <td>0.0</td>\n",
       "    </tr>\n",
       "    <tr>\n",
       "      <th>7640</th>\n",
       "      <td>2023-05-05 00:00:00-04:00</td>\n",
       "      <td>4084.729980</td>\n",
       "      <td>4147.020020</td>\n",
       "      <td>4084.729980</td>\n",
       "      <td>4136.250000</td>\n",
       "      <td>4186270000</td>\n",
       "      <td>0.0</td>\n",
       "      <td>0.0</td>\n",
       "    </tr>\n",
       "  </tbody>\n",
       "</table>\n",
       "</div>"
      ],
      "text/plain": [
       "                          Date         Open         High          Low   \n",
       "7638 2023-05-03 00:00:00-04:00  4122.250000  4148.299805  4088.860107  \\\n",
       "7639 2023-05-04 00:00:00-04:00  4082.550049  4082.610107  4048.280029   \n",
       "7640 2023-05-05 00:00:00-04:00  4084.729980  4147.020020  4084.729980   \n",
       "\n",
       "            Close      Volume  Dividends  Stock Splits  \n",
       "7638  4090.750000  4246510000        0.0           0.0  \n",
       "7639  4061.219971  4920090000        0.0           0.0  \n",
       "7640  4136.250000  4186270000        0.0           0.0  "
      ]
     },
     "metadata": {},
     "output_type": "display_data"
    }
   ],
   "source": [
    "# Visualize what we're dealing with, 30*365*5/7 ~= 7821\n",
    "display(df.head(3))\n",
    "display(df.tail(3))"
   ]
  },
  {
   "cell_type": "code",
   "execution_count": 17,
   "metadata": {
    "colab": {
     "background_save": true
    },
    "id": "DxxsFiyQ4OJg",
    "outputId": "21184463-9c52-4b4e-e0de-cb311560be9e"
   },
   "outputs": [
    {
     "data": {
      "image/png": "[encoded data removed]",
      "text/plain": [
       "<Figure size 640x480 with 1 Axes>"
      ]
     },
     "metadata": {},
     "output_type": "display_data"
    }
   ],
   "source": [
    "# Visualize closing prices\n",
    "plt.plot(df['Date'], df['Close'])\n",
    "plt.show()"
   ]
  },
  {
   "cell_type": "markdown",
   "metadata": {
    "id": "8uK_QenF4Sk5"
   },
   "source": [
    "#### Structure data \n",
    "\n",
    "We want a model that can forecast out a horizon of future terms given some past historical lag terms. To do so, we'll structure the data into a \"sliding window\" of sample inputs and targets `x, y`, where input `x` is a sequence of neighboring lag terms and target `y` is a sequence of neighboring horizon terms."
   ]
  },
  {
   "cell_type": "markdown",
   "metadata": {
    "id": "He5kVenM5PmD"
   },
   "source": [
    "#### Set lag and horizon prediction task"
   ]
  },
  {
   "cell_type": "code",
   "execution_count": 18,
   "metadata": {
    "colab": {
     "background_save": true
    },
    "id": "JmAQSyGc5UX6"
   },
   "outputs": [],
   "source": [
    "args.lag = 84          # We'll use the prior 12 calendar weeks as inputs\n",
    "args.horizon = 20      # We'll then try to predict out the next 20 available days (4ish working weeks)\n",
    "args.target = 'Close'  # Pick one feature to forecast \n",
    "\n",
    "# Windows of samples\n",
    "samples = [w.to_numpy() for w in df[args.target].rolling(window=args.lag + args.horizon)][args.lag + args.horizon - 1:]\n",
    "# Dates for each sample\n",
    "dates = [w for w in df['Date'].rolling(window=args.lag + args.horizon)][args.lag + args.horizon - 1:]"
   ]
  },
  {
   "cell_type": "code",
   "execution_count": 19,
   "metadata": {
    "colab": {
     "background_save": true
    },
    "id": "nlh-xkAG50NG",
    "outputId": "d4d43d60-1d63-43e4-a640-0808307514c5"
   },
   "outputs": [
    {
     "data": {
      "text/plain": [
       "7538"
      ]
     },
     "execution_count": 19,
     "metadata": {},
     "output_type": "execute_result"
    }
   ],
   "source": [
    "len(samples)  # Total number of samples"
   ]
  },
  {
   "cell_type": "code",
   "execution_count": 20,
   "metadata": {
    "colab": {
     "background_save": true
    },
    "id": "3EvbH3Q1519Y",
    "outputId": "f5265f4a-4b3b-43f2-9f62-53a19e7ee7a7"
   },
   "outputs": [
    {
     "data": {
      "text/plain": [
       "0     1993-01-04 00:00:00-05:00\n",
       "1     1993-01-05 00:00:00-05:00\n",
       "2     1993-01-06 00:00:00-05:00\n",
       "3     1993-01-07 00:00:00-05:00\n",
       "4     1993-01-08 00:00:00-05:00\n",
       "                 ...           \n",
       "99    1993-05-25 00:00:00-04:00\n",
       "100   1993-05-26 00:00:00-04:00\n",
       "101   1993-05-27 00:00:00-04:00\n",
       "102   1993-05-28 00:00:00-04:00\n",
       "103   1993-06-01 00:00:00-04:00\n",
       "Name: Date, Length: 104, dtype: datetime64[ns, America/New_York]"
      ]
     },
     "execution_count": 20,
     "metadata": {},
     "output_type": "execute_result"
    }
   ],
   "source": [
    "dates[0]  # Double-check we're dealing with lag + horizon dates per sample"
   ]
  },
  {
   "cell_type": "markdown",
   "metadata": {
    "id": "CdD3ER7-554N"
   },
   "source": [
    "#### Set evaluation timeframe\n",
    "We'll see if we can predict market prices starting in 2022. To do so, we'll roughly construct a test set from the samples where the horizon terms start occurring in 2022 (note that for the first test samples, we'll then have some lag terms that occur in 2021).\n",
    "\n",
    "We'll then create training and validation sets from the remaining data. "
   ]
  },
  {
   "cell_type": "code",
   "execution_count": 21,
   "metadata": {
    "colab": {
     "background_save": true
    },
    "id": "LgjMVh8p6goN"
   },
   "outputs": [],
   "source": [
    "import datetime\n",
    "\n",
    "test_year = 2022  \n",
    "test_date = datetime.date(test_year, 1, min(args.horizon, 30)) \n",
    "\n",
    "## Convert 'Date' to datetime object\n",
    "df['Date'] = pd.to_datetime(df['Date']).dt.date\n",
    "\n",
    "## Find indices corresponding to test year dates\n",
    "test_ix = len(dates) - df[df['Date'] >= test_date].shape[0]"
   ]
  },
  {
   "cell_type": "code",
   "execution_count": 22,
   "metadata": {
    "colab": {
     "background_save": true
    },
    "id": "YWf8NsXg6nZ9",
    "outputId": "cc1e6953-89a0-485e-ca3f-2a6027276221"
   },
   "outputs": [
    {
     "data": {
      "text/plain": [
       "7297   2021-12-22 00:00:00-05:00\n",
       "7298   2021-12-23 00:00:00-05:00\n",
       "7299   2021-12-27 00:00:00-05:00\n",
       "7300   2021-12-28 00:00:00-05:00\n",
       "7301   2021-12-29 00:00:00-05:00\n",
       "7302   2021-12-30 00:00:00-05:00\n",
       "7303   2021-12-31 00:00:00-05:00\n",
       "7304   2022-01-03 00:00:00-05:00\n",
       "7305   2022-01-04 00:00:00-05:00\n",
       "7306   2022-01-05 00:00:00-05:00\n",
       "7307   2022-01-06 00:00:00-05:00\n",
       "7308   2022-01-07 00:00:00-05:00\n",
       "7309   2022-01-10 00:00:00-05:00\n",
       "7310   2022-01-11 00:00:00-05:00\n",
       "7311   2022-01-12 00:00:00-05:00\n",
       "7312   2022-01-13 00:00:00-05:00\n",
       "7313   2022-01-14 00:00:00-05:00\n",
       "7314   2022-01-18 00:00:00-05:00\n",
       "7315   2022-01-19 00:00:00-05:00\n",
       "7316   2022-01-20 00:00:00-05:00\n",
       "Name: Date, dtype: datetime64[ns, America/New_York]"
      ]
     },
     "execution_count": 22,
     "metadata": {},
     "output_type": "execute_result"
    }
   ],
   "source": [
    "# Check that the horizon dates are roughly in 2022\n",
    "dates[test_ix][args.lag:args.lag + args.horizon]"
   ]
  },
  {
   "cell_type": "markdown",
   "metadata": {
    "id": "5T8G2htD689v"
   },
   "source": [
    "#### Create training and validation splits"
   ]
  },
  {
   "cell_type": "code",
   "execution_count": 23,
   "metadata": {
    "colab": {
     "background_save": true
    },
    "id": "YROYVXU77Vzb"
   },
   "outputs": [],
   "source": [
    "def train_val_split(data_indices, val_ratio=0.1):\n",
    "    train_ratio = 1 - val_ratio\n",
    "    last_train_index = int(np.round(len(data_indices) * train_ratio))\n",
    "    return data_indices[:last_train_index], data_indices[last_train_index:]"
   ]
  },
  {
   "cell_type": "code",
   "execution_count": 24,
   "metadata": {
    "colab": {
     "background_save": true
    },
    "id": "o75qK9H47YXp",
    "outputId": "f2d48d55-6bc6-4eaf-8596-ffbe6fd867e8"
   },
   "outputs": [
    {
     "data": {
      "image/png": "[encoded data removed]",
      "text/plain": [
       "<Figure size 640x480 with 1 Axes>"
      ]
     },
     "metadata": {},
     "output_type": "display_data"
    }
   ],
   "source": [
    "# Split data indices for train and val sets\n",
    "train_indices, val_indices = train_val_split(np.arange(test_ix))\n",
    "train_samples = np.array(samples[:val_indices[0]])\n",
    "val_samples = np.array(samples[val_indices[0]:val_indices[-1]])\n",
    "\n",
    "# Sanity check the splits by plotting the last horizon term in each sample\n",
    "ix = -1\n",
    "plt.plot(train_samples[:, ix], label=f'{args.target} (train)', alpha=1)\n",
    "plt.plot(np.arange(len(train_samples), len(train_samples) + len(val_samples)), \n",
    "         val_samples[:, ix], label=f'{args.target} (val)', alpha=1)\n",
    "plt.legend()\n",
    "plt.show()"
   ]
  },
  {
   "cell_type": "markdown",
   "metadata": {
    "id": "KtEFH-tU7dBn"
   },
   "source": [
    "#### Capture the above in PyTorch datasets and dataloaders\n",
    "\n"
   ]
  },
  {
   "cell_type": "code",
   "execution_count": 25,
   "metadata": {
    "colab": {
     "background_save": true
    },
    "id": "N9uxT6d98dbr"
   },
   "outputs": [],
   "source": [
    "import copy\n",
    "import torch\n",
    "from torch.utils.data import Dataset, DataLoader"
   ]
  },
  {
   "cell_type": "code",
   "execution_count": 26,
   "metadata": {
    "colab": {
     "background_save": true
    },
    "id": "uei7zVOB8fF-"
   },
   "outputs": [],
   "source": [
    "class YahooStockPriceDataset(Dataset):\n",
    "    def __init__(self, data: np.array, lag: int, horizon: int):\n",
    "        super().__init__()\n",
    "        self.data_x = torch.tensor(data).unsqueeze(-1).float()\n",
    "        self.data_y = copy.deepcopy(self.data_x[:, -horizon:, :])\n",
    "        \n",
    "        self.lag = lag\n",
    "        self.horizon = horizon\n",
    "        \n",
    "    def __len__(self):\n",
    "        return len(self.data_x)\n",
    "    \n",
    "    def __getitem__(self, idx):\n",
    "        x = self.data_x[idx]\n",
    "        y = self.data_y[idx]\n",
    "        x[-self.horizon:] = 0  # Mask input horizon terms\n",
    "        return x, y, (self.lag, self.horizon)\n",
    "    \n",
    "    # For simplicity, we just keep these as identities.\n",
    "    # But we could imagine some kind of data transformation / scaling for the inputs\n",
    "    def transform(self, x):\n",
    "        return x\n",
    "    \n",
    "    def inverse_transform(self, x):\n",
    "        return x\n",
    "        "
   ]
  },
  {
   "cell_type": "code",
   "execution_count": 27,
   "metadata": {
    "colab": {
     "background_save": true
    },
    "id": "KvCMWR7M8hC3"
   },
   "outputs": [],
   "source": [
    "# Function to load dataloaders for train, val, and test splits\n",
    "def load_data(df: pd.DataFrame, \n",
    "              lag: int, \n",
    "              horizon: int, \n",
    "              target: str, \n",
    "              val_ratio: float,\n",
    "              test_year_month_day: list[int], \n",
    "              **dataloader_kwargs: any):\n",
    "    \n",
    "    # Convert day-wise data into sequences of lag + horizon terms\n",
    "    samples = [w.to_numpy() for w in df[target].rolling(window=lag + horizon)][lag + horizon - 1:]\n",
    "    dates   = [w for w in df['Date'].rolling(window=lag + horizon)][lag + horizon - 1:]\n",
    "    \n",
    "    # Set aside test samples by date\n",
    "    test_date = datetime.date(*test_year_month_day)\n",
    "    df['Date'] = pd.to_datetime(df['Date']).dt.date\n",
    "    test_ix = len(dates) - df[df['Date'] >= test_date].shape[0]\n",
    "    test_samples = np.array(samples[test_ix:])\n",
    "    \n",
    "    # Get training + validation samples\n",
    "    train_indices, val_indices = train_val_split(np.arange(len(dates[:test_ix])), val_ratio)\n",
    "    train_samples = np.array(samples[:val_indices[0]])\n",
    "    val_samples = np.array(samples[val_indices[0]:val_indices[-1]])\n",
    "    \n",
    "    # PyTorch datasets and dataloaders\n",
    "    datasets = [YahooStockPriceDataset(_samples, lag, horizon)\n",
    "                for _samples in [train_samples, val_samples, test_samples]]\n",
    "    \n",
    "    dataloaders = [DataLoader(dataset, shuffle=True if ix == 0 else False, **dataloader_kwargs)\n",
    "                   for ix, dataset in enumerate(datasets)]\n",
    "    return dataloaders"
   ]
  },
  {
   "cell_type": "code",
   "execution_count": 28,
   "metadata": {
    "colab": {
     "background_save": true
    },
    "id": "I5c4ixvA8q-W"
   },
   "outputs": [],
   "source": [
    "# Function to visualize samples over time\n",
    "def visualize_data(dataloaders, sample_idx, sample_dim=0,\n",
    "                   splits=['train', 'val', 'test'], title=None):\n",
    "    assert len(splits) == len(dataloaders)\n",
    "    start_idx = 0\n",
    "    for idx, split in enumerate(splits):\n",
    "        y = dataloaders[idx].dataset.data_x[:, sample_idx, sample_dim]\n",
    "        x = np.arange(len(y)) + start_idx\n",
    "        plt.plot(x, y, label=split)\n",
    "        start_idx += len(x)\n",
    "    plt.title(title)\n",
    "    plt.legend()\n",
    "    plt.show()"
   ]
  },
  {
   "cell_type": "markdown",
   "metadata": {
    "id": "LvboqkSc8uP9"
   },
   "source": [
    "#### Data + task setup via training configs"
   ]
  },
  {
   "cell_type": "code",
   "execution_count": 29,
   "metadata": {
    "colab": {
     "background_save": true
    },
    "id": "b_9aRVC784FI"
   },
   "outputs": [],
   "source": [
    "# Again we use OmegaConf bc it's great\n",
    "dataset_configs = f\"\"\"\n",
    "lag: {args.lag}\n",
    "horizon: {args.horizon}\n",
    "target: Close\n",
    "val_ratio: 0.1\n",
    "test_year_month_day:\n",
    "- 2021\n",
    "- 1\n",
    "- 1\n",
    "\"\"\"\n",
    "dataset_configs = OmegaConf.create(dataset_configs)  "
   ]
  },
  {
   "cell_type": "code",
   "execution_count": 30,
   "metadata": {
    "colab": {
     "background_save": true
    },
    "id": "dC0PWeXQ882F"
   },
   "outputs": [],
   "source": [
    "dataloader_configs = \"\"\"\n",
    "batch_size: 32\n",
    "num_workers: 2\n",
    "pin_memory: true\n",
    "\"\"\"\n",
    "dataloader_configs = OmegaConf.create(dataloader_configs)"
   ]
  },
  {
   "cell_type": "code",
   "execution_count": 31,
   "metadata": {
    "colab": {
     "background_save": true
    },
    "id": "LaolHa-d9Gni",
    "outputId": "5151283c-d26c-4dde-e61d-238cd12574f7"
   },
   "outputs": [
    {
     "data": {
      "image/png": "[encoded data removed]",
      "text/plain": [
       "<Figure size 640x480 with 1 Axes>"
      ]
     },
     "metadata": {},
     "output_type": "display_data"
    }
   ],
   "source": [
    "# Load and visualize data\n",
    "torch.manual_seed(args.seed)\n",
    "dataloaders = load_data(df, **dataset_configs, **dataloader_configs)\n",
    "train_loader, val_loader, test_loader = dataloaders\n",
    "\n",
    "visualize_data(dataloaders, sample_idx=0)\n"
   ]
  },
  {
   "cell_type": "markdown",
   "metadata": {
    "id": "pjkOLxmH9NZD"
   },
   "source": [
    "### Part 1.2 SpaceTime Model\n",
    "\n",
    "We'll now define a SpaceTime model. To do so, we specify individual config files that determine individual components such as the input layer (*i.e.,* the embedding layer), the encoder layers, the decoder layer, and the final output layer.\n",
    "\n",
    "We explicitly write out the configs below, but they can also be found as `.yaml` files in `spacetime/configs/model/` (see the `spacetime/README.md` for more details)."
   ]
  },
  {
   "cell_type": "code",
   "execution_count": 32,
   "metadata": {
    "colab": {
     "background_save": true
    },
    "id": "T-dis5C39sCX"
   },
   "outputs": [],
   "source": [
    "# We've got 4 main components to specify: \n",
    "# 1. The embedding / input projection (e.g., an MLP)\n",
    "# 2. The encoder block (\"open-loop\" / convolutional SpaceTime SSMs go here)\n",
    "# 3. The decoder block (\"closed-loop\" / recurrent SpaceTime SSMs go here)\n",
    "# 4. The output projection (e.g., an MLP)\n",
    "\n",
    "config_dir = 'spacetime/configs/'"
   ]
  },
  {
   "cell_type": "code",
   "execution_count": 33,
   "metadata": {
    "colab": {
     "background_save": true
    },
    "id": "znB1fBS--PtN"
   },
   "outputs": [],
   "source": [
    "embedding_config = \"\"\"\n",
    "method: repeat\n",
    "kwargs:\n",
    "  input_dim: 1\n",
    "  embedding_dim: null\n",
    "  n_heads: 4\n",
    "  n_kernels: 32\n",
    "\"\"\"\n",
    "embedding_config = OmegaConf.create(embedding_config)"
   ]
  },
  {
   "cell_type": "code",
   "execution_count": 34,
   "metadata": {
    "colab": {
     "background_save": true
    },
    "id": "z3v36Jfl-Tmn"
   },
   "outputs": [],
   "source": [
    "encoder_config = \"\"\"\n",
    "blocks:\n",
    "- input_dim: 128\n",
    "  pre_config: 'ssm/preprocess/residual'\n",
    "  ssm_config: 'ssm/companion_preprocess'\n",
    "  mlp_config: 'mlp/default'\n",
    "  skip_connection: true\n",
    "  skip_preprocess: false\n",
    "\"\"\"\n",
    "encoder_config = OmegaConf.create(encoder_config)"
   ]
  },
  {
   "cell_type": "code",
   "execution_count": 35,
   "metadata": {
    "colab": {
     "background_save": true
    },
    "id": "-gRDJ25X-Um3"
   },
   "outputs": [],
   "source": [
    "decoder_config = \"\"\"\n",
    "blocks:\n",
    "- input_dim: 128\n",
    "  pre_config: 'ssm/preprocess/none'\n",
    "  ssm_config: 'ssm/closed_loop/companion'\n",
    "  mlp_config: 'mlp/identity'\n",
    "  skip_connection: false\n",
    "  skip_preprocess: false\n",
    "\"\"\"\n",
    "decoder_config = OmegaConf.create(decoder_config)"
   ]
  },
  {
   "cell_type": "code",
   "execution_count": 36,
   "metadata": {
    "colab": {
     "background_save": true
    },
    "id": "CiPTsGgN-WG0"
   },
   "outputs": [],
   "source": [
    "output_config = \"\"\"\n",
    "input_dim: 128\n",
    "output_dim: 1\n",
    "method: mlp\n",
    "kwargs:\n",
    "  input_dim: 128\n",
    "  output_dim: 1\n",
    "  activation: gelu\n",
    "  dropout: 0.2\n",
    "  layernorm: false\n",
    "  n_layers: 1\n",
    "  n_activations: 1\n",
    "  pre_activation: true\n",
    "  input_shape: bld\n",
    "  skip_connection: false\n",
    "  average_pool: null\n",
    "\"\"\"\n",
    "output_config = OmegaConf.create(output_config)"
   ]
  },
  {
   "cell_type": "markdown",
   "metadata": {
    "id": "Psq1ZCXc-Yt7"
   },
   "source": [
    "#### Use configs to make a SpaceTime neural net"
   ]
  },
  {
   "cell_type": "code",
   "execution_count": 37,
   "metadata": {
    "colab": {
     "background_save": true
    },
    "id": "X-7s1XNL-guN"
   },
   "outputs": [],
   "source": [
    "from model.network import SpaceTime\n",
    "from setup import seed_everything"
   ]
  },
  {
   "cell_type": "code",
   "execution_count": 38,
   "metadata": {
    "colab": {
     "background_save": true
    },
    "id": "mxa4dcGu-iC0"
   },
   "outputs": [],
   "source": [
    "# Initialize SpaceTime encoder and decoder preprocessing, SSM, and MLP components\n",
    "# - These are referenced as paths in the above encoder and decoder configs\n",
    "def init_encoder_decoder_config(config, config_dir):\n",
    "    for ix, _config in enumerate(config['blocks']):\n",
    "        # Load preprocess kernel configs\n",
    "        c_path = join(config_dir, f\"{_config['pre_config']}.yaml\")\n",
    "        _config['pre_config'] = OmegaConf.load(c_path)\n",
    "        # Load SSM kernel configs\n",
    "        c_path = join(config_dir, f\"{_config['ssm_config']}.yaml\")\n",
    "        _config['ssm_config'] = OmegaConf.load(c_path)\n",
    "        # Load MLP configs\n",
    "        c_path = join(config_dir, f\"{_config['mlp_config']}.yaml\")\n",
    "        _config['mlp_config'] = OmegaConf.load(c_path)\n",
    "    return config"
   ]
  },
  {
   "cell_type": "code",
   "execution_count": 39,
   "metadata": {
    "colab": {
     "background_save": true
    },
    "id": "wI1kSNdr-ju6"
   },
   "outputs": [],
   "source": [
    "encoder_config = init_encoder_decoder_config(encoder_config, join(config_dir, 'model'))\n",
    "decoder_config = init_encoder_decoder_config(decoder_config, join(config_dir, 'model'))"
   ]
  },
  {
   "cell_type": "code",
   "execution_count": 40,
   "metadata": {
    "colab": {
     "background_save": true
    },
    "id": "sLPXpstD-saA"
   },
   "outputs": [],
   "source": [
    "# Initialize SpaceTime model\n",
    "model_configs = {\n",
    "    'embedding_config': embedding_config,\n",
    "    'encoder_config': encoder_config,\n",
    "    'decoder_config': decoder_config,\n",
    "    'output_config': output_config,\n",
    "    'lag': dataset_configs.lag,\n",
    "    'horizon': dataset_configs.horizon\n",
    "}\n",
    "seed_everything(args.seed)\n",
    "\n",
    "model = SpaceTime(**model_configs)"
   ]
  },
  {
   "cell_type": "markdown",
   "metadata": {
    "id": "uSbdyubk-2oM"
   },
   "source": [
    "##### View architecture\n",
    "We can either display the SpaceTime model as a PyTorch ``nn.Module`` object, or view the `OmegaConf` config behind it. "
   ]
  },
  {
   "cell_type": "code",
   "execution_count": 41,
   "metadata": {
    "colab": {
     "background_save": true
    },
    "id": "e9zWueBm_Fnm"
   },
   "outputs": [],
   "source": [
    "from utils.config import print_config  # View OmegaConf configs"
   ]
  },
  {
   "cell_type": "code",
   "execution_count": 42,
   "metadata": {
    "colab": {
     "background_save": true
    },
    "id": "sxF-JCDV-xGx",
    "outputId": "39601bec-72a2-4a83-c588-cd5462697614"
   },
   "outputs": [
    {
     "data": {
      "text/plain": [
       "SpaceTime(\n",
       "  (embedding): RepeatEmbedding()\n",
       "  (encoder): Encoder(\n",
       "    (blocks): Sequential(\n",
       "      (0): Block(\n",
       "        (pre): ResidualSSM()\n",
       "        (ssm): CompanionSSM()\n",
       "        (mlp): MLP(\n",
       "          (layernorm): Identity()\n",
       "          (layers): Sequential(\n",
       "            (0): GELU(approximate='none')\n",
       "            (1): Dropout(p=0.2, inplace=False)\n",
       "            (2): Linear(in_features=128, out_features=128, bias=True)\n",
       "          )\n",
       "        )\n",
       "      )\n",
       "    )\n",
       "  )\n",
       "  (decoder): Decoder(\n",
       "    (blocks): ClosedLoopBlock(\n",
       "      (pre): Identity()\n",
       "      (ssm): ClosedLoopCompanionSSM()\n",
       "      (mlp): Identity()\n",
       "    )\n",
       "  )\n",
       "  (output): MLP(\n",
       "    (layernorm): Identity()\n",
       "    (layers): Sequential(\n",
       "      (0): GELU(approximate='none')\n",
       "      (1): Dropout(p=0.2, inplace=False)\n",
       "      (2): Linear(in_features=128, out_features=1, bias=True)\n",
       "    )\n",
       "  )\n",
       ")"
      ]
     },
     "execution_count": 42,
     "metadata": {},
     "output_type": "execute_result"
    }
   ],
   "source": [
    "model  # PyTorch nn.Module view"
   ]
  },
  {
   "cell_type": "code",
   "execution_count": 43,
   "metadata": {
    "colab": {
     "background_save": true
    },
    "id": "N0DVL5hG-0Jv",
    "outputId": "c93ffc55-66af-45de-e878-4f304afdbd24"
   },
   "outputs": [
    {
     "data": {
      "text/html": [
       "<pre style=\"white-space:pre;overflow-x:auto;line-height:normal;font-family:Menlo,'DejaVu Sans Mono',consolas,'Courier New',monospace\">CONFIG\n",
       "├── embedding_config\n",
       "│   └── <span style=\"color: #f92672; text-decoration-color: #f92672; background-color: #272822\">method</span><span style=\"color: #f8f8f2; text-decoration-color: #f8f8f2; background-color: #272822\">: </span><span style=\"background-color: #272822\">repeat                                                                                             </span>\n",
       "│       <span style=\"color: #f92672; text-decoration-color: #f92672; background-color: #272822\">kwargs</span><span style=\"color: #f8f8f2; text-decoration-color: #f8f8f2; background-color: #272822\">:</span><span style=\"background-color: #272822\">                                                                                                    </span>\n",
       "│       <span style=\"color: #f8f8f2; text-decoration-color: #f8f8f2; background-color: #272822\">  </span><span style=\"color: #f92672; text-decoration-color: #f92672; background-color: #272822\">input_dim</span><span style=\"color: #f8f8f2; text-decoration-color: #f8f8f2; background-color: #272822\">: </span><span style=\"background-color: #272822\">1                                                                                             </span>\n",
       "│       <span style=\"color: #f8f8f2; text-decoration-color: #f8f8f2; background-color: #272822\">  </span><span style=\"color: #f92672; text-decoration-color: #f92672; background-color: #272822\">embedding_dim</span><span style=\"color: #f8f8f2; text-decoration-color: #f8f8f2; background-color: #272822\">: </span><span style=\"background-color: #272822\">null                                                                                      </span>\n",
       "│       <span style=\"color: #f8f8f2; text-decoration-color: #f8f8f2; background-color: #272822\">  </span><span style=\"color: #f92672; text-decoration-color: #f92672; background-color: #272822\">n_heads</span><span style=\"color: #f8f8f2; text-decoration-color: #f8f8f2; background-color: #272822\">: </span><span style=\"background-color: #272822\">4                                                                                               </span>\n",
       "│       <span style=\"color: #f8f8f2; text-decoration-color: #f8f8f2; background-color: #272822\">  </span><span style=\"color: #f92672; text-decoration-color: #f92672; background-color: #272822\">n_kernels</span><span style=\"color: #f8f8f2; text-decoration-color: #f8f8f2; background-color: #272822\">: </span><span style=\"background-color: #272822\">32                                                                                            </span>\n",
       "│       <span style=\"background-color: #272822\">                                                                                                           </span>\n",
       "├── encoder_config\n",
       "│   └── <span style=\"color: #f92672; text-decoration-color: #f92672; background-color: #272822\">blocks</span><span style=\"color: #f8f8f2; text-decoration-color: #f8f8f2; background-color: #272822\">:</span><span style=\"background-color: #272822\">                                                                                                    </span>\n",
       "│       <span style=\"background-color: #272822\">-</span><span style=\"color: #f8f8f2; text-decoration-color: #f8f8f2; background-color: #272822\"> </span><span style=\"color: #f92672; text-decoration-color: #f92672; background-color: #272822\">input_dim</span><span style=\"color: #f8f8f2; text-decoration-color: #f8f8f2; background-color: #272822\">: </span><span style=\"background-color: #272822\">128                                                                                           </span>\n",
       "│       <span style=\"color: #f8f8f2; text-decoration-color: #f8f8f2; background-color: #272822\">  </span><span style=\"color: #f92672; text-decoration-color: #f92672; background-color: #272822\">pre_config</span><span style=\"color: #f8f8f2; text-decoration-color: #f8f8f2; background-color: #272822\">:</span><span style=\"background-color: #272822\">                                                                                              </span>\n",
       "│       <span style=\"color: #f8f8f2; text-decoration-color: #f8f8f2; background-color: #272822\">    </span><span style=\"color: #f92672; text-decoration-color: #f92672; background-color: #272822\">method</span><span style=\"color: #f8f8f2; text-decoration-color: #f8f8f2; background-color: #272822\">: </span><span style=\"background-color: #272822\">residual                                                                                       </span>\n",
       "│       <span style=\"color: #f8f8f2; text-decoration-color: #f8f8f2; background-color: #272822\">    </span><span style=\"color: #f92672; text-decoration-color: #f92672; background-color: #272822\">kwargs</span><span style=\"color: #f8f8f2; text-decoration-color: #f8f8f2; background-color: #272822\">:</span><span style=\"background-color: #272822\">                                                                                                </span>\n",
       "│       <span style=\"color: #f8f8f2; text-decoration-color: #f8f8f2; background-color: #272822\">      </span><span style=\"color: #f92672; text-decoration-color: #f92672; background-color: #272822\">max_diff_order</span><span style=\"color: #f8f8f2; text-decoration-color: #f8f8f2; background-color: #272822\">: </span><span style=\"background-color: #272822\">4                                                                                    </span>\n",
       "│       <span style=\"color: #f8f8f2; text-decoration-color: #f8f8f2; background-color: #272822\">      </span><span style=\"color: #f92672; text-decoration-color: #f92672; background-color: #272822\">min_avg_window</span><span style=\"color: #f8f8f2; text-decoration-color: #f8f8f2; background-color: #272822\">: </span><span style=\"background-color: #272822\">4                                                                                    </span>\n",
       "│       <span style=\"color: #f8f8f2; text-decoration-color: #f8f8f2; background-color: #272822\">      </span><span style=\"color: #f92672; text-decoration-color: #f92672; background-color: #272822\">max_avg_window</span><span style=\"color: #f8f8f2; text-decoration-color: #f8f8f2; background-color: #272822\">: </span><span style=\"background-color: #272822\">64                                                                                   </span>\n",
       "│       <span style=\"color: #f8f8f2; text-decoration-color: #f8f8f2; background-color: #272822\">      </span><span style=\"color: #f92672; text-decoration-color: #f92672; background-color: #272822\">model_dim</span><span style=\"color: #f8f8f2; text-decoration-color: #f8f8f2; background-color: #272822\">: </span><span style=\"background-color: #272822\">128                                                                                       </span>\n",
       "│       <span style=\"color: #f8f8f2; text-decoration-color: #f8f8f2; background-color: #272822\">      </span><span style=\"color: #f92672; text-decoration-color: #f92672; background-color: #272822\">n_kernels</span><span style=\"color: #f8f8f2; text-decoration-color: #f8f8f2; background-color: #272822\">: </span><span style=\"background-color: #272822\">8                                                                                         </span>\n",
       "│       <span style=\"color: #f8f8f2; text-decoration-color: #f8f8f2; background-color: #272822\">      </span><span style=\"color: #f92672; text-decoration-color: #f92672; background-color: #272822\">kernel_dim</span><span style=\"color: #f8f8f2; text-decoration-color: #f8f8f2; background-color: #272822\">: </span><span style=\"background-color: #272822\">2                                                                                        </span>\n",
       "│       <span style=\"color: #f8f8f2; text-decoration-color: #f8f8f2; background-color: #272822\">      </span><span style=\"color: #f92672; text-decoration-color: #f92672; background-color: #272822\">kernel_repeat</span><span style=\"color: #f8f8f2; text-decoration-color: #f8f8f2; background-color: #272822\">: </span><span style=\"background-color: #272822\">16                                                                                    </span>\n",
       "│       <span style=\"color: #f8f8f2; text-decoration-color: #f8f8f2; background-color: #272822\">      </span><span style=\"color: #f92672; text-decoration-color: #f92672; background-color: #272822\">n_heads</span><span style=\"color: #f8f8f2; text-decoration-color: #f8f8f2; background-color: #272822\">: </span><span style=\"background-color: #272822\">1                                                                                           </span>\n",
       "│       <span style=\"color: #f8f8f2; text-decoration-color: #f8f8f2; background-color: #272822\">      </span><span style=\"color: #f92672; text-decoration-color: #f92672; background-color: #272822\">head_dim</span><span style=\"color: #f8f8f2; text-decoration-color: #f8f8f2; background-color: #272822\">: </span><span style=\"background-color: #272822\">1                                                                                          </span>\n",
       "│       <span style=\"color: #f8f8f2; text-decoration-color: #f8f8f2; background-color: #272822\">      </span><span style=\"color: #f92672; text-decoration-color: #f92672; background-color: #272822\">kernel_weights</span><span style=\"color: #f8f8f2; text-decoration-color: #f8f8f2; background-color: #272822\">: </span><span style=\"background-color: #272822\">null                                                                                 </span>\n",
       "│       <span style=\"color: #f8f8f2; text-decoration-color: #f8f8f2; background-color: #272822\">      </span><span style=\"color: #f92672; text-decoration-color: #f92672; background-color: #272822\">kernel_init</span><span style=\"color: #f8f8f2; text-decoration-color: #f8f8f2; background-color: #272822\">: </span><span style=\"background-color: #272822\">null                                                                                    </span>\n",
       "│       <span style=\"color: #f8f8f2; text-decoration-color: #f8f8f2; background-color: #272822\">      </span><span style=\"color: #f92672; text-decoration-color: #f92672; background-color: #272822\">kernel_train</span><span style=\"color: #f8f8f2; text-decoration-color: #f8f8f2; background-color: #272822\">: </span><span style=\"background-color: #272822\">false                                                                                  </span>\n",
       "│       <span style=\"color: #f8f8f2; text-decoration-color: #f8f8f2; background-color: #272822\">      </span><span style=\"color: #f92672; text-decoration-color: #f92672; background-color: #272822\">skip_connection</span><span style=\"color: #f8f8f2; text-decoration-color: #f8f8f2; background-color: #272822\">: </span><span style=\"background-color: #272822\">false                                                                               </span>\n",
       "│       <span style=\"color: #f8f8f2; text-decoration-color: #f8f8f2; background-color: #272822\">  </span><span style=\"color: #f92672; text-decoration-color: #f92672; background-color: #272822\">ssm_config</span><span style=\"color: #f8f8f2; text-decoration-color: #f8f8f2; background-color: #272822\">:</span><span style=\"background-color: #272822\">                                                                                              </span>\n",
       "│       <span style=\"color: #f8f8f2; text-decoration-color: #f8f8f2; background-color: #272822\">    </span><span style=\"color: #f92672; text-decoration-color: #f92672; background-color: #272822\">method</span><span style=\"color: #f8f8f2; text-decoration-color: #f8f8f2; background-color: #272822\">: </span><span style=\"background-color: #272822\">companion                                                                                      </span>\n",
       "│       <span style=\"color: #f8f8f2; text-decoration-color: #f8f8f2; background-color: #272822\">    </span><span style=\"color: #f92672; text-decoration-color: #f92672; background-color: #272822\">kwargs</span><span style=\"color: #f8f8f2; text-decoration-color: #f8f8f2; background-color: #272822\">:</span><span style=\"background-color: #272822\">                                                                                                </span>\n",
       "│       <span style=\"color: #f8f8f2; text-decoration-color: #f8f8f2; background-color: #272822\">      </span><span style=\"color: #f92672; text-decoration-color: #f92672; background-color: #272822\">model_dim</span><span style=\"color: #f8f8f2; text-decoration-color: #f8f8f2; background-color: #272822\">: </span><span style=\"background-color: #272822\">128                                                                                       </span>\n",
       "│       <span style=\"color: #f8f8f2; text-decoration-color: #f8f8f2; background-color: #272822\">      </span><span style=\"color: #f92672; text-decoration-color: #f92672; background-color: #272822\">n_kernels</span><span style=\"color: #f8f8f2; text-decoration-color: #f8f8f2; background-color: #272822\">: </span><span style=\"background-color: #272822\">16                                                                                        </span>\n",
       "│       <span style=\"color: #f8f8f2; text-decoration-color: #f8f8f2; background-color: #272822\">      </span><span style=\"color: #f92672; text-decoration-color: #f92672; background-color: #272822\">kernel_dim</span><span style=\"color: #f8f8f2; text-decoration-color: #f8f8f2; background-color: #272822\">: </span><span style=\"background-color: #272822\">64                                                                                       </span>\n",
       "│       <span style=\"color: #f8f8f2; text-decoration-color: #f8f8f2; background-color: #272822\">      </span><span style=\"color: #f92672; text-decoration-color: #f92672; background-color: #272822\">kernel_repeat</span><span style=\"color: #f8f8f2; text-decoration-color: #f8f8f2; background-color: #272822\">: </span><span style=\"background-color: #272822\">1                                                                                     </span>\n",
       "│       <span style=\"color: #f8f8f2; text-decoration-color: #f8f8f2; background-color: #272822\">      </span><span style=\"color: #f92672; text-decoration-color: #f92672; background-color: #272822\">n_heads</span><span style=\"color: #f8f8f2; text-decoration-color: #f8f8f2; background-color: #272822\">: </span><span style=\"background-color: #272822\">8                                                                                           </span>\n",
       "│       <span style=\"color: #f8f8f2; text-decoration-color: #f8f8f2; background-color: #272822\">      </span><span style=\"color: #f92672; text-decoration-color: #f92672; background-color: #272822\">head_dim</span><span style=\"color: #f8f8f2; text-decoration-color: #f8f8f2; background-color: #272822\">: </span><span style=\"background-color: #272822\">1                                                                                          </span>\n",
       "│       <span style=\"color: #f8f8f2; text-decoration-color: #f8f8f2; background-color: #272822\">      </span><span style=\"color: #f92672; text-decoration-color: #f92672; background-color: #272822\">kernel_weights</span><span style=\"color: #f8f8f2; text-decoration-color: #f8f8f2; background-color: #272822\">: </span><span style=\"background-color: #272822\">null                                                                                 </span>\n",
       "│       <span style=\"color: #f8f8f2; text-decoration-color: #f8f8f2; background-color: #272822\">      </span><span style=\"color: #f92672; text-decoration-color: #f92672; background-color: #272822\">kernel_init</span><span style=\"color: #f8f8f2; text-decoration-color: #f8f8f2; background-color: #272822\">: </span><span style=\"background-color: #272822\">normal                                                                                  </span>\n",
       "│       <span style=\"color: #f8f8f2; text-decoration-color: #f8f8f2; background-color: #272822\">      </span><span style=\"color: #f92672; text-decoration-color: #f92672; background-color: #272822\">kernel_train</span><span style=\"color: #f8f8f2; text-decoration-color: #f8f8f2; background-color: #272822\">: </span><span style=\"background-color: #272822\">true                                                                                   </span>\n",
       "│       <span style=\"color: #f8f8f2; text-decoration-color: #f8f8f2; background-color: #272822\">      </span><span style=\"color: #f92672; text-decoration-color: #f92672; background-color: #272822\">skip_connection</span><span style=\"color: #f8f8f2; text-decoration-color: #f8f8f2; background-color: #272822\">: </span><span style=\"background-color: #272822\">true                                                                                </span>\n",
       "│       <span style=\"color: #f8f8f2; text-decoration-color: #f8f8f2; background-color: #272822\">      </span><span style=\"color: #f92672; text-decoration-color: #f92672; background-color: #272822\">norm_order</span><span style=\"color: #f8f8f2; text-decoration-color: #f8f8f2; background-color: #272822\">: </span><span style=\"background-color: #272822\">1                                                                                        </span>\n",
       "│       <span style=\"color: #f8f8f2; text-decoration-color: #f8f8f2; background-color: #272822\">  </span><span style=\"color: #f92672; text-decoration-color: #f92672; background-color: #272822\">mlp_config</span><span style=\"color: #f8f8f2; text-decoration-color: #f8f8f2; background-color: #272822\">:</span><span style=\"background-color: #272822\">                                                                                              </span>\n",
       "│       <span style=\"color: #f8f8f2; text-decoration-color: #f8f8f2; background-color: #272822\">    </span><span style=\"color: #f92672; text-decoration-color: #f92672; background-color: #272822\">method</span><span style=\"color: #f8f8f2; text-decoration-color: #f8f8f2; background-color: #272822\">: </span><span style=\"background-color: #272822\">mlp                                                                                            </span>\n",
       "│       <span style=\"color: #f8f8f2; text-decoration-color: #f8f8f2; background-color: #272822\">    </span><span style=\"color: #f92672; text-decoration-color: #f92672; background-color: #272822\">kwargs</span><span style=\"color: #f8f8f2; text-decoration-color: #f8f8f2; background-color: #272822\">:</span><span style=\"background-color: #272822\">                                                                                                </span>\n",
       "│       <span style=\"color: #f8f8f2; text-decoration-color: #f8f8f2; background-color: #272822\">      </span><span style=\"color: #f92672; text-decoration-color: #f92672; background-color: #272822\">input_dim</span><span style=\"color: #f8f8f2; text-decoration-color: #f8f8f2; background-color: #272822\">: </span><span style=\"background-color: #272822\">128                                                                                       </span>\n",
       "│       <span style=\"color: #f8f8f2; text-decoration-color: #f8f8f2; background-color: #272822\">      </span><span style=\"color: #f92672; text-decoration-color: #f92672; background-color: #272822\">output_dim</span><span style=\"color: #f8f8f2; text-decoration-color: #f8f8f2; background-color: #272822\">: </span><span style=\"background-color: #272822\">128                                                                                      </span>\n",
       "│       <span style=\"color: #f8f8f2; text-decoration-color: #f8f8f2; background-color: #272822\">      </span><span style=\"color: #f92672; text-decoration-color: #f92672; background-color: #272822\">activation</span><span style=\"color: #f8f8f2; text-decoration-color: #f8f8f2; background-color: #272822\">: </span><span style=\"background-color: #272822\">gelu                                                                                     </span>\n",
       "│       <span style=\"color: #f8f8f2; text-decoration-color: #f8f8f2; background-color: #272822\">      </span><span style=\"color: #f92672; text-decoration-color: #f92672; background-color: #272822\">dropout</span><span style=\"color: #f8f8f2; text-decoration-color: #f8f8f2; background-color: #272822\">: </span><span style=\"background-color: #272822\">0.2                                                                                         </span>\n",
       "│       <span style=\"color: #f8f8f2; text-decoration-color: #f8f8f2; background-color: #272822\">      </span><span style=\"color: #f92672; text-decoration-color: #f92672; background-color: #272822\">layernorm</span><span style=\"color: #f8f8f2; text-decoration-color: #f8f8f2; background-color: #272822\">: </span><span style=\"background-color: #272822\">false                                                                                     </span>\n",
       "│       <span style=\"color: #f8f8f2; text-decoration-color: #f8f8f2; background-color: #272822\">      </span><span style=\"color: #f92672; text-decoration-color: #f92672; background-color: #272822\">n_layers</span><span style=\"color: #f8f8f2; text-decoration-color: #f8f8f2; background-color: #272822\">: </span><span style=\"background-color: #272822\">1                                                                                          </span>\n",
       "│       <span style=\"color: #f8f8f2; text-decoration-color: #f8f8f2; background-color: #272822\">      </span><span style=\"color: #f92672; text-decoration-color: #f92672; background-color: #272822\">n_activations</span><span style=\"color: #f8f8f2; text-decoration-color: #f8f8f2; background-color: #272822\">: </span><span style=\"background-color: #272822\">1                                                                                     </span>\n",
       "│       <span style=\"color: #f8f8f2; text-decoration-color: #f8f8f2; background-color: #272822\">      </span><span style=\"color: #f92672; text-decoration-color: #f92672; background-color: #272822\">pre_activation</span><span style=\"color: #f8f8f2; text-decoration-color: #f8f8f2; background-color: #272822\">: </span><span style=\"background-color: #272822\">true                                                                                 </span>\n",
       "│       <span style=\"color: #f8f8f2; text-decoration-color: #f8f8f2; background-color: #272822\">      </span><span style=\"color: #f92672; text-decoration-color: #f92672; background-color: #272822\">input_shape</span><span style=\"color: #f8f8f2; text-decoration-color: #f8f8f2; background-color: #272822\">: </span><span style=\"background-color: #272822\">bld                                                                                     </span>\n",
       "│       <span style=\"color: #f8f8f2; text-decoration-color: #f8f8f2; background-color: #272822\">      </span><span style=\"color: #f92672; text-decoration-color: #f92672; background-color: #272822\">skip_connection</span><span style=\"color: #f8f8f2; text-decoration-color: #f8f8f2; background-color: #272822\">: </span><span style=\"background-color: #272822\">true                                                                                </span>\n",
       "│       <span style=\"color: #f8f8f2; text-decoration-color: #f8f8f2; background-color: #272822\">      </span><span style=\"color: #f92672; text-decoration-color: #f92672; background-color: #272822\">average_pool</span><span style=\"color: #f8f8f2; text-decoration-color: #f8f8f2; background-color: #272822\">: </span><span style=\"background-color: #272822\">null                                                                                   </span>\n",
       "│       <span style=\"color: #f8f8f2; text-decoration-color: #f8f8f2; background-color: #272822\">  </span><span style=\"color: #f92672; text-decoration-color: #f92672; background-color: #272822\">skip_connection</span><span style=\"color: #f8f8f2; text-decoration-color: #f8f8f2; background-color: #272822\">: </span><span style=\"background-color: #272822\">true                                                                                    </span>\n",
       "│       <span style=\"color: #f8f8f2; text-decoration-color: #f8f8f2; background-color: #272822\">  </span><span style=\"color: #f92672; text-decoration-color: #f92672; background-color: #272822\">skip_preprocess</span><span style=\"color: #f8f8f2; text-decoration-color: #f8f8f2; background-color: #272822\">: </span><span style=\"background-color: #272822\">false                                                                                   </span>\n",
       "│       <span style=\"background-color: #272822\">                                                                                                           </span>\n",
       "├── decoder_config\n",
       "│   └── <span style=\"color: #f92672; text-decoration-color: #f92672; background-color: #272822\">blocks</span><span style=\"color: #f8f8f2; text-decoration-color: #f8f8f2; background-color: #272822\">:</span><span style=\"background-color: #272822\">                                                                                                    </span>\n",
       "│       <span style=\"background-color: #272822\">-</span><span style=\"color: #f8f8f2; text-decoration-color: #f8f8f2; background-color: #272822\"> </span><span style=\"color: #f92672; text-decoration-color: #f92672; background-color: #272822\">input_dim</span><span style=\"color: #f8f8f2; text-decoration-color: #f8f8f2; background-color: #272822\">: </span><span style=\"background-color: #272822\">128                                                                                           </span>\n",
       "│       <span style=\"color: #f8f8f2; text-decoration-color: #f8f8f2; background-color: #272822\">  </span><span style=\"color: #f92672; text-decoration-color: #f92672; background-color: #272822\">pre_config</span><span style=\"color: #f8f8f2; text-decoration-color: #f8f8f2; background-color: #272822\">:</span><span style=\"background-color: #272822\">                                                                                              </span>\n",
       "│       <span style=\"color: #f8f8f2; text-decoration-color: #f8f8f2; background-color: #272822\">    </span><span style=\"color: #f92672; text-decoration-color: #f92672; background-color: #272822\">method</span><span style=\"color: #f8f8f2; text-decoration-color: #f8f8f2; background-color: #272822\">: </span><span style=\"background-color: #272822\">identity                                                                                       </span>\n",
       "│       <span style=\"color: #f8f8f2; text-decoration-color: #f8f8f2; background-color: #272822\">    </span><span style=\"color: #f92672; text-decoration-color: #f92672; background-color: #272822\">kwargs</span><span style=\"color: #f8f8f2; text-decoration-color: #f8f8f2; background-color: #272822\">: </span><span style=\"background-color: #272822\">null                                                                                           </span>\n",
       "│       <span style=\"color: #f8f8f2; text-decoration-color: #f8f8f2; background-color: #272822\">  </span><span style=\"color: #f92672; text-decoration-color: #f92672; background-color: #272822\">ssm_config</span><span style=\"color: #f8f8f2; text-decoration-color: #f8f8f2; background-color: #272822\">:</span><span style=\"background-color: #272822\">                                                                                              </span>\n",
       "│       <span style=\"color: #f8f8f2; text-decoration-color: #f8f8f2; background-color: #272822\">    </span><span style=\"color: #f92672; text-decoration-color: #f92672; background-color: #272822\">method</span><span style=\"color: #f8f8f2; text-decoration-color: #f8f8f2; background-color: #272822\">: </span><span style=\"background-color: #272822\">closed_loop_companion                                                                          </span>\n",
       "│       <span style=\"color: #f8f8f2; text-decoration-color: #f8f8f2; background-color: #272822\">    </span><span style=\"color: #f92672; text-decoration-color: #f92672; background-color: #272822\">kwargs</span><span style=\"color: #f8f8f2; text-decoration-color: #f8f8f2; background-color: #272822\">:</span><span style=\"background-color: #272822\">                                                                                                </span>\n",
       "│       <span style=\"color: #f8f8f2; text-decoration-color: #f8f8f2; background-color: #272822\">      </span><span style=\"color: #f92672; text-decoration-color: #f92672; background-color: #272822\">lag</span><span style=\"color: #f8f8f2; text-decoration-color: #f8f8f2; background-color: #272822\">: </span><span style=\"background-color: #272822\">1                                                                                               </span>\n",
       "│       <span style=\"color: #f8f8f2; text-decoration-color: #f8f8f2; background-color: #272822\">      </span><span style=\"color: #f92672; text-decoration-color: #f92672; background-color: #272822\">horizon</span><span style=\"color: #f8f8f2; text-decoration-color: #f8f8f2; background-color: #272822\">: </span><span style=\"background-color: #272822\">1                                                                                           </span>\n",
       "│       <span style=\"color: #f8f8f2; text-decoration-color: #f8f8f2; background-color: #272822\">      </span><span style=\"color: #f92672; text-decoration-color: #f92672; background-color: #272822\">model_dim</span><span style=\"color: #f8f8f2; text-decoration-color: #f8f8f2; background-color: #272822\">: </span><span style=\"background-color: #272822\">128                                                                                       </span>\n",
       "│       <span style=\"color: #f8f8f2; text-decoration-color: #f8f8f2; background-color: #272822\">      </span><span style=\"color: #f92672; text-decoration-color: #f92672; background-color: #272822\">n_kernels</span><span style=\"color: #f8f8f2; text-decoration-color: #f8f8f2; background-color: #272822\">: </span><span style=\"background-color: #272822\">128                                                                                       </span>\n",
       "│       <span style=\"color: #f8f8f2; text-decoration-color: #f8f8f2; background-color: #272822\">      </span><span style=\"color: #f92672; text-decoration-color: #f92672; background-color: #272822\">kernel_dim</span><span style=\"color: #f8f8f2; text-decoration-color: #f8f8f2; background-color: #272822\">: </span><span style=\"background-color: #272822\">64                                                                                       </span>\n",
       "│       <span style=\"color: #f8f8f2; text-decoration-color: #f8f8f2; background-color: #272822\">      </span><span style=\"color: #f92672; text-decoration-color: #f92672; background-color: #272822\">kernel_repeat</span><span style=\"color: #f8f8f2; text-decoration-color: #f8f8f2; background-color: #272822\">: </span><span style=\"background-color: #272822\">1                                                                                     </span>\n",
       "│       <span style=\"color: #f8f8f2; text-decoration-color: #f8f8f2; background-color: #272822\">      </span><span style=\"color: #f92672; text-decoration-color: #f92672; background-color: #272822\">n_heads</span><span style=\"color: #f8f8f2; text-decoration-color: #f8f8f2; background-color: #272822\">: </span><span style=\"background-color: #272822\">1                                                                                           </span>\n",
       "│       <span style=\"color: #f8f8f2; text-decoration-color: #f8f8f2; background-color: #272822\">      </span><span style=\"color: #f92672; text-decoration-color: #f92672; background-color: #272822\">head_dim</span><span style=\"color: #f8f8f2; text-decoration-color: #f8f8f2; background-color: #272822\">: </span><span style=\"background-color: #272822\">1                                                                                          </span>\n",
       "│       <span style=\"color: #f8f8f2; text-decoration-color: #f8f8f2; background-color: #272822\">      </span><span style=\"color: #f92672; text-decoration-color: #f92672; background-color: #272822\">kernel_weights</span><span style=\"color: #f8f8f2; text-decoration-color: #f8f8f2; background-color: #272822\">: </span><span style=\"background-color: #272822\">null                                                                                 </span>\n",
       "│       <span style=\"color: #f8f8f2; text-decoration-color: #f8f8f2; background-color: #272822\">      </span><span style=\"color: #f92672; text-decoration-color: #f92672; background-color: #272822\">kernel_init</span><span style=\"color: #f8f8f2; text-decoration-color: #f8f8f2; background-color: #272822\">: </span><span style=\"background-color: #272822\">normal                                                                                  </span>\n",
       "│       <span style=\"color: #f8f8f2; text-decoration-color: #f8f8f2; background-color: #272822\">      </span><span style=\"color: #f92672; text-decoration-color: #f92672; background-color: #272822\">kernel_train</span><span style=\"color: #f8f8f2; text-decoration-color: #f8f8f2; background-color: #272822\">: </span><span style=\"background-color: #272822\">true                                                                                   </span>\n",
       "│       <span style=\"color: #f8f8f2; text-decoration-color: #f8f8f2; background-color: #272822\">      </span><span style=\"color: #f92672; text-decoration-color: #f92672; background-color: #272822\">skip_connection</span><span style=\"color: #f8f8f2; text-decoration-color: #f8f8f2; background-color: #272822\">: </span><span style=\"background-color: #272822\">false                                                                               </span>\n",
       "│       <span style=\"color: #f8f8f2; text-decoration-color: #f8f8f2; background-color: #272822\">      </span><span style=\"color: #f92672; text-decoration-color: #f92672; background-color: #272822\">norm_order</span><span style=\"color: #f8f8f2; text-decoration-color: #f8f8f2; background-color: #272822\">: </span><span style=\"background-color: #272822\">1                                                                                        </span>\n",
       "│       <span style=\"color: #f8f8f2; text-decoration-color: #f8f8f2; background-color: #272822\">      </span><span style=\"color: #f92672; text-decoration-color: #f92672; background-color: #272822\">use_initial</span><span style=\"color: #f8f8f2; text-decoration-color: #f8f8f2; background-color: #272822\">: </span><span style=\"background-color: #272822\">false                                                                                   </span>\n",
       "│       <span style=\"color: #f8f8f2; text-decoration-color: #f8f8f2; background-color: #272822\">  </span><span style=\"color: #f92672; text-decoration-color: #f92672; background-color: #272822\">mlp_config</span><span style=\"color: #f8f8f2; text-decoration-color: #f8f8f2; background-color: #272822\">:</span><span style=\"background-color: #272822\">                                                                                              </span>\n",
       "│       <span style=\"color: #f8f8f2; text-decoration-color: #f8f8f2; background-color: #272822\">    </span><span style=\"color: #f92672; text-decoration-color: #f92672; background-color: #272822\">method</span><span style=\"color: #f8f8f2; text-decoration-color: #f8f8f2; background-color: #272822\">: </span><span style=\"background-color: #272822\">identity                                                                                       </span>\n",
       "│       <span style=\"color: #f8f8f2; text-decoration-color: #f8f8f2; background-color: #272822\">    </span><span style=\"color: #f92672; text-decoration-color: #f92672; background-color: #272822\">kwargs</span><span style=\"color: #f8f8f2; text-decoration-color: #f8f8f2; background-color: #272822\">: </span><span style=\"background-color: #272822\">null                                                                                           </span>\n",
       "│       <span style=\"color: #f8f8f2; text-decoration-color: #f8f8f2; background-color: #272822\">  </span><span style=\"color: #f92672; text-decoration-color: #f92672; background-color: #272822\">skip_connection</span><span style=\"color: #f8f8f2; text-decoration-color: #f8f8f2; background-color: #272822\">: </span><span style=\"background-color: #272822\">false                                                                                   </span>\n",
       "│       <span style=\"color: #f8f8f2; text-decoration-color: #f8f8f2; background-color: #272822\">  </span><span style=\"color: #f92672; text-decoration-color: #f92672; background-color: #272822\">skip_preprocess</span><span style=\"color: #f8f8f2; text-decoration-color: #f8f8f2; background-color: #272822\">: </span><span style=\"background-color: #272822\">false                                                                                   </span>\n",
       "│       <span style=\"background-color: #272822\">                                                                                                           </span>\n",
       "├── output_config\n",
       "│   └── <span style=\"color: #f92672; text-decoration-color: #f92672; background-color: #272822\">input_dim</span><span style=\"color: #f8f8f2; text-decoration-color: #f8f8f2; background-color: #272822\">: </span><span style=\"background-color: #272822\">128                                                                                             </span>\n",
       "│       <span style=\"color: #f92672; text-decoration-color: #f92672; background-color: #272822\">output_dim</span><span style=\"color: #f8f8f2; text-decoration-color: #f8f8f2; background-color: #272822\">: </span><span style=\"background-color: #272822\">1                                                                                              </span>\n",
       "│       <span style=\"color: #f92672; text-decoration-color: #f92672; background-color: #272822\">method</span><span style=\"color: #f8f8f2; text-decoration-color: #f8f8f2; background-color: #272822\">: </span><span style=\"background-color: #272822\">mlp                                                                                                </span>\n",
       "│       <span style=\"color: #f92672; text-decoration-color: #f92672; background-color: #272822\">kwargs</span><span style=\"color: #f8f8f2; text-decoration-color: #f8f8f2; background-color: #272822\">:</span><span style=\"background-color: #272822\">                                                                                                    </span>\n",
       "│       <span style=\"color: #f8f8f2; text-decoration-color: #f8f8f2; background-color: #272822\">  </span><span style=\"color: #f92672; text-decoration-color: #f92672; background-color: #272822\">input_dim</span><span style=\"color: #f8f8f2; text-decoration-color: #f8f8f2; background-color: #272822\">: </span><span style=\"background-color: #272822\">128                                                                                           </span>\n",
       "│       <span style=\"color: #f8f8f2; text-decoration-color: #f8f8f2; background-color: #272822\">  </span><span style=\"color: #f92672; text-decoration-color: #f92672; background-color: #272822\">output_dim</span><span style=\"color: #f8f8f2; text-decoration-color: #f8f8f2; background-color: #272822\">: </span><span style=\"background-color: #272822\">1                                                                                            </span>\n",
       "│       <span style=\"color: #f8f8f2; text-decoration-color: #f8f8f2; background-color: #272822\">  </span><span style=\"color: #f92672; text-decoration-color: #f92672; background-color: #272822\">activation</span><span style=\"color: #f8f8f2; text-decoration-color: #f8f8f2; background-color: #272822\">: </span><span style=\"background-color: #272822\">gelu                                                                                         </span>\n",
       "│       <span style=\"color: #f8f8f2; text-decoration-color: #f8f8f2; background-color: #272822\">  </span><span style=\"color: #f92672; text-decoration-color: #f92672; background-color: #272822\">dropout</span><span style=\"color: #f8f8f2; text-decoration-color: #f8f8f2; background-color: #272822\">: </span><span style=\"background-color: #272822\">0.2                                                                                             </span>\n",
       "│       <span style=\"color: #f8f8f2; text-decoration-color: #f8f8f2; background-color: #272822\">  </span><span style=\"color: #f92672; text-decoration-color: #f92672; background-color: #272822\">layernorm</span><span style=\"color: #f8f8f2; text-decoration-color: #f8f8f2; background-color: #272822\">: </span><span style=\"background-color: #272822\">false                                                                                         </span>\n",
       "│       <span style=\"color: #f8f8f2; text-decoration-color: #f8f8f2; background-color: #272822\">  </span><span style=\"color: #f92672; text-decoration-color: #f92672; background-color: #272822\">n_layers</span><span style=\"color: #f8f8f2; text-decoration-color: #f8f8f2; background-color: #272822\">: </span><span style=\"background-color: #272822\">1                                                                                              </span>\n",
       "│       <span style=\"color: #f8f8f2; text-decoration-color: #f8f8f2; background-color: #272822\">  </span><span style=\"color: #f92672; text-decoration-color: #f92672; background-color: #272822\">n_activations</span><span style=\"color: #f8f8f2; text-decoration-color: #f8f8f2; background-color: #272822\">: </span><span style=\"background-color: #272822\">1                                                                                         </span>\n",
       "│       <span style=\"color: #f8f8f2; text-decoration-color: #f8f8f2; background-color: #272822\">  </span><span style=\"color: #f92672; text-decoration-color: #f92672; background-color: #272822\">pre_activation</span><span style=\"color: #f8f8f2; text-decoration-color: #f8f8f2; background-color: #272822\">: </span><span style=\"background-color: #272822\">true                                                                                     </span>\n",
       "│       <span style=\"color: #f8f8f2; text-decoration-color: #f8f8f2; background-color: #272822\">  </span><span style=\"color: #f92672; text-decoration-color: #f92672; background-color: #272822\">input_shape</span><span style=\"color: #f8f8f2; text-decoration-color: #f8f8f2; background-color: #272822\">: </span><span style=\"background-color: #272822\">bld                                                                                         </span>\n",
       "│       <span style=\"color: #f8f8f2; text-decoration-color: #f8f8f2; background-color: #272822\">  </span><span style=\"color: #f92672; text-decoration-color: #f92672; background-color: #272822\">skip_connection</span><span style=\"color: #f8f8f2; text-decoration-color: #f8f8f2; background-color: #272822\">: </span><span style=\"background-color: #272822\">false                                                                                   </span>\n",
       "│       <span style=\"color: #f8f8f2; text-decoration-color: #f8f8f2; background-color: #272822\">  </span><span style=\"color: #f92672; text-decoration-color: #f92672; background-color: #272822\">average_pool</span><span style=\"color: #f8f8f2; text-decoration-color: #f8f8f2; background-color: #272822\">: </span><span style=\"background-color: #272822\">null                                                                                       </span>\n",
       "│       <span style=\"background-color: #272822\">                                                                                                           </span>\n",
       "├── lag\n",
       "│   └── <span style=\"background-color: #272822\">84                                                                                                         </span>\n",
       "└── horizon\n",
       "    └── <span style=\"background-color: #272822\">20                                                                                                         </span>\n",
       "</pre>\n"
      ],
      "text/plain": [
       "CONFIG\n",
       "├── embedding_config\n",
       "│   └── \u001b[38;2;249;38;114;48;2;39;40;34mmethod\u001b[0m\u001b[38;2;248;248;242;48;2;39;40;34m:\u001b[0m\u001b[38;2;248;248;242;48;2;39;40;34m \u001b[0m\u001b[48;2;39;40;34mrepeat\u001b[0m\u001b[48;2;39;40;34m                                                                                             \u001b[0m\n",
       "│       \u001b[38;2;249;38;114;48;2;39;40;34mkwargs\u001b[0m\u001b[38;2;248;248;242;48;2;39;40;34m:\u001b[0m\u001b[48;2;39;40;34m                                                                                                    \u001b[0m\n",
       "│       \u001b[38;2;248;248;242;48;2;39;40;34m  \u001b[0m\u001b[38;2;249;38;114;48;2;39;40;34minput_dim\u001b[0m\u001b[38;2;248;248;242;48;2;39;40;34m:\u001b[0m\u001b[38;2;248;248;242;48;2;39;40;34m \u001b[0m\u001b[48;2;39;40;34m1\u001b[0m\u001b[48;2;39;40;34m                                                                                             \u001b[0m\n",
       "│       \u001b[38;2;248;248;242;48;2;39;40;34m  \u001b[0m\u001b[38;2;249;38;114;48;2;39;40;34membedding_dim\u001b[0m\u001b[38;2;248;248;242;48;2;39;40;34m:\u001b[0m\u001b[38;2;248;248;242;48;2;39;40;34m \u001b[0m\u001b[48;2;39;40;34mnull\u001b[0m\u001b[48;2;39;40;34m                                                                                      \u001b[0m\n",
       "│       \u001b[38;2;248;248;242;48;2;39;40;34m  \u001b[0m\u001b[38;2;249;38;114;48;2;39;40;34mn_heads\u001b[0m\u001b[38;2;248;248;242;48;2;39;40;34m:\u001b[0m\u001b[38;2;248;248;242;48;2;39;40;34m \u001b[0m\u001b[48;2;39;40;34m4\u001b[0m\u001b[48;2;39;40;34m                                                                                               \u001b[0m\n",
       "│       \u001b[38;2;248;248;242;48;2;39;40;34m  \u001b[0m\u001b[38;2;249;38;114;48;2;39;40;34mn_kernels\u001b[0m\u001b[38;2;248;248;242;48;2;39;40;34m:\u001b[0m\u001b[38;2;248;248;242;48;2;39;40;34m \u001b[0m\u001b[48;2;39;40;34m32\u001b[0m\u001b[48;2;39;40;34m                                                                                            \u001b[0m\n",
       "│       \u001b[48;2;39;40;34m                                                                                                           \u001b[0m\n",
       "├── encoder_config\n",
       "│   └── \u001b[38;2;249;38;114;48;2;39;40;34mblocks\u001b[0m\u001b[38;2;248;248;242;48;2;39;40;34m:\u001b[0m\u001b[48;2;39;40;34m                                                                                                    \u001b[0m\n",
       "│       \u001b[48;2;39;40;34m-\u001b[0m\u001b[38;2;248;248;242;48;2;39;40;34m \u001b[0m\u001b[38;2;249;38;114;48;2;39;40;34minput_dim\u001b[0m\u001b[38;2;248;248;242;48;2;39;40;34m:\u001b[0m\u001b[38;2;248;248;242;48;2;39;40;34m \u001b[0m\u001b[48;2;39;40;34m128\u001b[0m\u001b[48;2;39;40;34m                                                                                           \u001b[0m\n",
       "│       \u001b[38;2;248;248;242;48;2;39;40;34m  \u001b[0m\u001b[38;2;249;38;114;48;2;39;40;34mpre_config\u001b[0m\u001b[38;2;248;248;242;48;2;39;40;34m:\u001b[0m\u001b[48;2;39;40;34m                                                                                              \u001b[0m\n",
       "│       \u001b[38;2;248;248;242;48;2;39;40;34m    \u001b[0m\u001b[38;2;249;38;114;48;2;39;40;34mmethod\u001b[0m\u001b[38;2;248;248;242;48;2;39;40;34m:\u001b[0m\u001b[38;2;248;248;242;48;2;39;40;34m \u001b[0m\u001b[48;2;39;40;34mresidual\u001b[0m\u001b[48;2;39;40;34m                                                                                       \u001b[0m\n",
       "│       \u001b[38;2;248;248;242;48;2;39;40;34m    \u001b[0m\u001b[38;2;249;38;114;48;2;39;40;34mkwargs\u001b[0m\u001b[38;2;248;248;242;48;2;39;40;34m:\u001b[0m\u001b[48;2;39;40;34m                                                                                                \u001b[0m\n",
       "│       \u001b[38;2;248;248;242;48;2;39;40;34m      \u001b[0m\u001b[38;2;249;38;114;48;2;39;40;34mmax_diff_order\u001b[0m\u001b[38;2;248;248;242;48;2;39;40;34m:\u001b[0m\u001b[38;2;248;248;242;48;2;39;40;34m \u001b[0m\u001b[48;2;39;40;34m4\u001b[0m\u001b[48;2;39;40;34m                                                                                    \u001b[0m\n",
       "│       \u001b[38;2;248;248;242;48;2;39;40;34m      \u001b[0m\u001b[38;2;249;38;114;48;2;39;40;34mmin_avg_window\u001b[0m\u001b[38;2;248;248;242;48;2;39;40;34m:\u001b[0m\u001b[38;2;248;248;242;48;2;39;40;34m \u001b[0m\u001b[48;2;39;40;34m4\u001b[0m\u001b[48;2;39;40;34m                                                                                    \u001b[0m\n",
       "│       \u001b[38;2;248;248;242;48;2;39;40;34m      \u001b[0m\u001b[38;2;249;38;114;48;2;39;40;34mmax_avg_window\u001b[0m\u001b[38;2;248;248;242;48;2;39;40;34m:\u001b[0m\u001b[38;2;248;248;242;48;2;39;40;34m \u001b[0m\u001b[48;2;39;40;34m64\u001b[0m\u001b[48;2;39;40;34m                                                                                   \u001b[0m\n",
       "│       \u001b[38;2;248;248;242;48;2;39;40;34m      \u001b[0m\u001b[38;2;249;38;114;48;2;39;40;34mmodel_dim\u001b[0m\u001b[38;2;248;248;242;48;2;39;40;34m:\u001b[0m\u001b[38;2;248;248;242;48;2;39;40;34m \u001b[0m\u001b[48;2;39;40;34m128\u001b[0m\u001b[48;2;39;40;34m                                                                                       \u001b[0m\n",
       "│       \u001b[38;2;248;248;242;48;2;39;40;34m      \u001b[0m\u001b[38;2;249;38;114;48;2;39;40;34mn_kernels\u001b[0m\u001b[38;2;248;248;242;48;2;39;40;34m:\u001b[0m\u001b[38;2;248;248;242;48;2;39;40;34m \u001b[0m\u001b[48;2;39;40;34m8\u001b[0m\u001b[48;2;39;40;34m                                                                                         \u001b[0m\n",
       "│       \u001b[38;2;248;248;242;48;2;39;40;34m      \u001b[0m\u001b[38;2;249;38;114;48;2;39;40;34mkernel_dim\u001b[0m\u001b[38;2;248;248;242;48;2;39;40;34m:\u001b[0m\u001b[38;2;248;248;242;48;2;39;40;34m \u001b[0m\u001b[48;2;39;40;34m2\u001b[0m\u001b[48;2;39;40;34m                                                                                        \u001b[0m\n",
       "│       \u001b[38;2;248;248;242;48;2;39;40;34m      \u001b[0m\u001b[38;2;249;38;114;48;2;39;40;34mkernel_repeat\u001b[0m\u001b[38;2;248;248;242;48;2;39;40;34m:\u001b[0m\u001b[38;2;248;248;242;48;2;39;40;34m \u001b[0m\u001b[48;2;39;40;34m16\u001b[0m\u001b[48;2;39;40;34m                                                                                    \u001b[0m\n",
       "│       \u001b[38;2;248;248;242;48;2;39;40;34m      \u001b[0m\u001b[38;2;249;38;114;48;2;39;40;34mn_heads\u001b[0m\u001b[38;2;248;248;242;48;2;39;40;34m:\u001b[0m\u001b[38;2;248;248;242;48;2;39;40;34m \u001b[0m\u001b[48;2;39;40;34m1\u001b[0m\u001b[48;2;39;40;34m                                                                                           \u001b[0m\n",
       "│       \u001b[38;2;248;248;242;48;2;39;40;34m      \u001b[0m\u001b[38;2;249;38;114;48;2;39;40;34mhead_dim\u001b[0m\u001b[38;2;248;248;242;48;2;39;40;34m:\u001b[0m\u001b[38;2;248;248;242;48;2;39;40;34m \u001b[0m\u001b[48;2;39;40;34m1\u001b[0m\u001b[48;2;39;40;34m                                                                                          \u001b[0m\n",
       "│       \u001b[38;2;248;248;242;48;2;39;40;34m      \u001b[0m\u001b[38;2;249;38;114;48;2;39;40;34mkernel_weights\u001b[0m\u001b[38;2;248;248;242;48;2;39;40;34m:\u001b[0m\u001b[38;2;248;248;242;48;2;39;40;34m \u001b[0m\u001b[48;2;39;40;34mnull\u001b[0m\u001b[48;2;39;40;34m                                                                                 \u001b[0m\n",
       "│       \u001b[38;2;248;248;242;48;2;39;40;34m      \u001b[0m\u001b[38;2;249;38;114;48;2;39;40;34mkernel_init\u001b[0m\u001b[38;2;248;248;242;48;2;39;40;34m:\u001b[0m\u001b[38;2;248;248;242;48;2;39;40;34m \u001b[0m\u001b[48;2;39;40;34mnull\u001b[0m\u001b[48;2;39;40;34m                                                                                    \u001b[0m\n",
       "│       \u001b[38;2;248;248;242;48;2;39;40;34m      \u001b[0m\u001b[38;2;249;38;114;48;2;39;40;34mkernel_train\u001b[0m\u001b[38;2;248;248;242;48;2;39;40;34m:\u001b[0m\u001b[38;2;248;248;242;48;2;39;40;34m \u001b[0m\u001b[48;2;39;40;34mfalse\u001b[0m\u001b[48;2;39;40;34m                                                                                  \u001b[0m\n",
       "│       \u001b[38;2;248;248;242;48;2;39;40;34m      \u001b[0m\u001b[38;2;249;38;114;48;2;39;40;34mskip_connection\u001b[0m\u001b[38;2;248;248;242;48;2;39;40;34m:\u001b[0m\u001b[38;2;248;248;242;48;2;39;40;34m \u001b[0m\u001b[48;2;39;40;34mfalse\u001b[0m\u001b[48;2;39;40;34m                                                                               \u001b[0m\n",
       "│       \u001b[38;2;248;248;242;48;2;39;40;34m  \u001b[0m\u001b[38;2;249;38;114;48;2;39;40;34mssm_config\u001b[0m\u001b[38;2;248;248;242;48;2;39;40;34m:\u001b[0m\u001b[48;2;39;40;34m                                                                                              \u001b[0m\n",
       "│       \u001b[38;2;248;248;242;48;2;39;40;34m    \u001b[0m\u001b[38;2;249;38;114;48;2;39;40;34mmethod\u001b[0m\u001b[38;2;248;248;242;48;2;39;40;34m:\u001b[0m\u001b[38;2;248;248;242;48;2;39;40;34m \u001b[0m\u001b[48;2;39;40;34mcompanion\u001b[0m\u001b[48;2;39;40;34m                                                                                      \u001b[0m\n",
       "│       \u001b[38;2;248;248;242;48;2;39;40;34m    \u001b[0m\u001b[38;2;249;38;114;48;2;39;40;34mkwargs\u001b[0m\u001b[38;2;248;248;242;48;2;39;40;34m:\u001b[0m\u001b[48;2;39;40;34m                                                                                                \u001b[0m\n",
       "│       \u001b[38;2;248;248;242;48;2;39;40;34m      \u001b[0m\u001b[38;2;249;38;114;48;2;39;40;34mmodel_dim\u001b[0m\u001b[38;2;248;248;242;48;2;39;40;34m:\u001b[0m\u001b[38;2;248;248;242;48;2;39;40;34m \u001b[0m\u001b[48;2;39;40;34m128\u001b[0m\u001b[48;2;39;40;34m                                                                                       \u001b[0m\n",
       "│       \u001b[38;2;248;248;242;48;2;39;40;34m      \u001b[0m\u001b[38;2;249;38;114;48;2;39;40;34mn_kernels\u001b[0m\u001b[38;2;248;248;242;48;2;39;40;34m:\u001b[0m\u001b[38;2;248;248;242;48;2;39;40;34m \u001b[0m\u001b[48;2;39;40;34m16\u001b[0m\u001b[48;2;39;40;34m                                                                                        \u001b[0m\n",
       "│       \u001b[38;2;248;248;242;48;2;39;40;34m      \u001b[0m\u001b[38;2;249;38;114;48;2;39;40;34mkernel_dim\u001b[0m\u001b[38;2;248;248;242;48;2;39;40;34m:\u001b[0m\u001b[38;2;248;248;242;48;2;39;40;34m \u001b[0m\u001b[48;2;39;40;34m64\u001b[0m\u001b[48;2;39;40;34m                                                                                       \u001b[0m\n",
       "│       \u001b[38;2;248;248;242;48;2;39;40;34m      \u001b[0m\u001b[38;2;249;38;114;48;2;39;40;34mkernel_repeat\u001b[0m\u001b[38;2;248;248;242;48;2;39;40;34m:\u001b[0m\u001b[38;2;248;248;242;48;2;39;40;34m \u001b[0m\u001b[48;2;39;40;34m1\u001b[0m\u001b[48;2;39;40;34m                                                                                     \u001b[0m\n",
       "│       \u001b[38;2;248;248;242;48;2;39;40;34m      \u001b[0m\u001b[38;2;249;38;114;48;2;39;40;34mn_heads\u001b[0m\u001b[38;2;248;248;242;48;2;39;40;34m:\u001b[0m\u001b[38;2;248;248;242;48;2;39;40;34m \u001b[0m\u001b[48;2;39;40;34m8\u001b[0m\u001b[48;2;39;40;34m                                                                                           \u001b[0m\n",
       "│       \u001b[38;2;248;248;242;48;2;39;40;34m      \u001b[0m\u001b[38;2;249;38;114;48;2;39;40;34mhead_dim\u001b[0m\u001b[38;2;248;248;242;48;2;39;40;34m:\u001b[0m\u001b[38;2;248;248;242;48;2;39;40;34m \u001b[0m\u001b[48;2;39;40;34m1\u001b[0m\u001b[48;2;39;40;34m                                                                                          \u001b[0m\n",
       "│       \u001b[38;2;248;248;242;48;2;39;40;34m      \u001b[0m\u001b[38;2;249;38;114;48;2;39;40;34mkernel_weights\u001b[0m\u001b[38;2;248;248;242;48;2;39;40;34m:\u001b[0m\u001b[38;2;248;248;242;48;2;39;40;34m \u001b[0m\u001b[48;2;39;40;34mnull\u001b[0m\u001b[48;2;39;40;34m                                                                                 \u001b[0m\n",
       "│       \u001b[38;2;248;248;242;48;2;39;40;34m      \u001b[0m\u001b[38;2;249;38;114;48;2;39;40;34mkernel_init\u001b[0m\u001b[38;2;248;248;242;48;2;39;40;34m:\u001b[0m\u001b[38;2;248;248;242;48;2;39;40;34m \u001b[0m\u001b[48;2;39;40;34mnormal\u001b[0m\u001b[48;2;39;40;34m                                                                                  \u001b[0m\n",
       "│       \u001b[38;2;248;248;242;48;2;39;40;34m      \u001b[0m\u001b[38;2;249;38;114;48;2;39;40;34mkernel_train\u001b[0m\u001b[38;2;248;248;242;48;2;39;40;34m:\u001b[0m\u001b[38;2;248;248;242;48;2;39;40;34m \u001b[0m\u001b[48;2;39;40;34mtrue\u001b[0m\u001b[48;2;39;40;34m                                                                                   \u001b[0m\n",
       "│       \u001b[38;2;248;248;242;48;2;39;40;34m      \u001b[0m\u001b[38;2;249;38;114;48;2;39;40;34mskip_connection\u001b[0m\u001b[38;2;248;248;242;48;2;39;40;34m:\u001b[0m\u001b[38;2;248;248;242;48;2;39;40;34m \u001b[0m\u001b[48;2;39;40;34mtrue\u001b[0m\u001b[48;2;39;40;34m                                                                                \u001b[0m\n",
       "│       \u001b[38;2;248;248;242;48;2;39;40;34m      \u001b[0m\u001b[38;2;249;38;114;48;2;39;40;34mnorm_order\u001b[0m\u001b[38;2;248;248;242;48;2;39;40;34m:\u001b[0m\u001b[38;2;248;248;242;48;2;39;40;34m \u001b[0m\u001b[48;2;39;40;34m1\u001b[0m\u001b[48;2;39;40;34m                                                                                        \u001b[0m\n",
       "│       \u001b[38;2;248;248;242;48;2;39;40;34m  \u001b[0m\u001b[38;2;249;38;114;48;2;39;40;34mmlp_config\u001b[0m\u001b[38;2;248;248;242;48;2;39;40;34m:\u001b[0m\u001b[48;2;39;40;34m                                                                                              \u001b[0m\n",
       "│       \u001b[38;2;248;248;242;48;2;39;40;34m    \u001b[0m\u001b[38;2;249;38;114;48;2;39;40;34mmethod\u001b[0m\u001b[38;2;248;248;242;48;2;39;40;34m:\u001b[0m\u001b[38;2;248;248;242;48;2;39;40;34m \u001b[0m\u001b[48;2;39;40;34mmlp\u001b[0m\u001b[48;2;39;40;34m                                                                                            \u001b[0m\n",
       "│       \u001b[38;2;248;248;242;48;2;39;40;34m    \u001b[0m\u001b[38;2;249;38;114;48;2;39;40;34mkwargs\u001b[0m\u001b[38;2;248;248;242;48;2;39;40;34m:\u001b[0m\u001b[48;2;39;40;34m                                                                                                \u001b[0m\n",
       "│       \u001b[38;2;248;248;242;48;2;39;40;34m      \u001b[0m\u001b[38;2;249;38;114;48;2;39;40;34minput_dim\u001b[0m\u001b[38;2;248;248;242;48;2;39;40;34m:\u001b[0m\u001b[38;2;248;248;242;48;2;39;40;34m \u001b[0m\u001b[48;2;39;40;34m128\u001b[0m\u001b[48;2;39;40;34m                                                                                       \u001b[0m\n",
       "│       \u001b[38;2;248;248;242;48;2;39;40;34m      \u001b[0m\u001b[38;2;249;38;114;48;2;39;40;34moutput_dim\u001b[0m\u001b[38;2;248;248;242;48;2;39;40;34m:\u001b[0m\u001b[38;2;248;248;242;48;2;39;40;34m \u001b[0m\u001b[48;2;39;40;34m128\u001b[0m\u001b[48;2;39;40;34m                                                                                      \u001b[0m\n",
       "│       \u001b[38;2;248;248;242;48;2;39;40;34m      \u001b[0m\u001b[38;2;249;38;114;48;2;39;40;34mactivation\u001b[0m\u001b[38;2;248;248;242;48;2;39;40;34m:\u001b[0m\u001b[38;2;248;248;242;48;2;39;40;34m \u001b[0m\u001b[48;2;39;40;34mgelu\u001b[0m\u001b[48;2;39;40;34m                                                                                     \u001b[0m\n",
       "│       \u001b[38;2;248;248;242;48;2;39;40;34m      \u001b[0m\u001b[38;2;249;38;114;48;2;39;40;34mdropout\u001b[0m\u001b[38;2;248;248;242;48;2;39;40;34m:\u001b[0m\u001b[38;2;248;248;242;48;2;39;40;34m \u001b[0m\u001b[48;2;39;40;34m0.2\u001b[0m\u001b[48;2;39;40;34m                                                                                         \u001b[0m\n",
       "│       \u001b[38;2;248;248;242;48;2;39;40;34m      \u001b[0m\u001b[38;2;249;38;114;48;2;39;40;34mlayernorm\u001b[0m\u001b[38;2;248;248;242;48;2;39;40;34m:\u001b[0m\u001b[38;2;248;248;242;48;2;39;40;34m \u001b[0m\u001b[48;2;39;40;34mfalse\u001b[0m\u001b[48;2;39;40;34m                                                                                     \u001b[0m\n",
       "│       \u001b[38;2;248;248;242;48;2;39;40;34m      \u001b[0m\u001b[38;2;249;38;114;48;2;39;40;34mn_layers\u001b[0m\u001b[38;2;248;248;242;48;2;39;40;34m:\u001b[0m\u001b[38;2;248;248;242;48;2;39;40;34m \u001b[0m\u001b[48;2;39;40;34m1\u001b[0m\u001b[48;2;39;40;34m                                                                                          \u001b[0m\n",
       "│       \u001b[38;2;248;248;242;48;2;39;40;34m      \u001b[0m\u001b[38;2;249;38;114;48;2;39;40;34mn_activations\u001b[0m\u001b[38;2;248;248;242;48;2;39;40;34m:\u001b[0m\u001b[38;2;248;248;242;48;2;39;40;34m \u001b[0m\u001b[48;2;39;40;34m1\u001b[0m\u001b[48;2;39;40;34m                                                                                     \u001b[0m\n",
       "│       \u001b[38;2;248;248;242;48;2;39;40;34m      \u001b[0m\u001b[38;2;249;38;114;48;2;39;40;34mpre_activation\u001b[0m\u001b[38;2;248;248;242;48;2;39;40;34m:\u001b[0m\u001b[38;2;248;248;242;48;2;39;40;34m \u001b[0m\u001b[48;2;39;40;34mtrue\u001b[0m\u001b[48;2;39;40;34m                                                                                 \u001b[0m\n",
       "│       \u001b[38;2;248;248;242;48;2;39;40;34m      \u001b[0m\u001b[38;2;249;38;114;48;2;39;40;34minput_shape\u001b[0m\u001b[38;2;248;248;242;48;2;39;40;34m:\u001b[0m\u001b[38;2;248;248;242;48;2;39;40;34m \u001b[0m\u001b[48;2;39;40;34mbld\u001b[0m\u001b[48;2;39;40;34m                                                                                     \u001b[0m\n",
       "│       \u001b[38;2;248;248;242;48;2;39;40;34m      \u001b[0m\u001b[38;2;249;38;114;48;2;39;40;34mskip_connection\u001b[0m\u001b[38;2;248;248;242;48;2;39;40;34m:\u001b[0m\u001b[38;2;248;248;242;48;2;39;40;34m \u001b[0m\u001b[48;2;39;40;34mtrue\u001b[0m\u001b[48;2;39;40;34m                                                                                \u001b[0m\n",
       "│       \u001b[38;2;248;248;242;48;2;39;40;34m      \u001b[0m\u001b[38;2;249;38;114;48;2;39;40;34maverage_pool\u001b[0m\u001b[38;2;248;248;242;48;2;39;40;34m:\u001b[0m\u001b[38;2;248;248;242;48;2;39;40;34m \u001b[0m\u001b[48;2;39;40;34mnull\u001b[0m\u001b[48;2;39;40;34m                                                                                   \u001b[0m\n",
       "│       \u001b[38;2;248;248;242;48;2;39;40;34m  \u001b[0m\u001b[38;2;249;38;114;48;2;39;40;34mskip_connection\u001b[0m\u001b[38;2;248;248;242;48;2;39;40;34m:\u001b[0m\u001b[38;2;248;248;242;48;2;39;40;34m \u001b[0m\u001b[48;2;39;40;34mtrue\u001b[0m\u001b[48;2;39;40;34m                                                                                    \u001b[0m\n",
       "│       \u001b[38;2;248;248;242;48;2;39;40;34m  \u001b[0m\u001b[38;2;249;38;114;48;2;39;40;34mskip_preprocess\u001b[0m\u001b[38;2;248;248;242;48;2;39;40;34m:\u001b[0m\u001b[38;2;248;248;242;48;2;39;40;34m \u001b[0m\u001b[48;2;39;40;34mfalse\u001b[0m\u001b[48;2;39;40;34m                                                                                   \u001b[0m\n",
       "│       \u001b[48;2;39;40;34m                                                                                                           \u001b[0m\n",
       "├── decoder_config\n",
       "│   └── \u001b[38;2;249;38;114;48;2;39;40;34mblocks\u001b[0m\u001b[38;2;248;248;242;48;2;39;40;34m:\u001b[0m\u001b[48;2;39;40;34m                                                                                                    \u001b[0m\n",
       "│       \u001b[48;2;39;40;34m-\u001b[0m\u001b[38;2;248;248;242;48;2;39;40;34m \u001b[0m\u001b[38;2;249;38;114;48;2;39;40;34minput_dim\u001b[0m\u001b[38;2;248;248;242;48;2;39;40;34m:\u001b[0m\u001b[38;2;248;248;242;48;2;39;40;34m \u001b[0m\u001b[48;2;39;40;34m128\u001b[0m\u001b[48;2;39;40;34m                                                                                           \u001b[0m\n",
       "│       \u001b[38;2;248;248;242;48;2;39;40;34m  \u001b[0m\u001b[38;2;249;38;114;48;2;39;40;34mpre_config\u001b[0m\u001b[38;2;248;248;242;48;2;39;40;34m:\u001b[0m\u001b[48;2;39;40;34m                                                                                              \u001b[0m\n",
       "│       \u001b[38;2;248;248;242;48;2;39;40;34m    \u001b[0m\u001b[38;2;249;38;114;48;2;39;40;34mmethod\u001b[0m\u001b[38;2;248;248;242;48;2;39;40;34m:\u001b[0m\u001b[38;2;248;248;242;48;2;39;40;34m \u001b[0m\u001b[48;2;39;40;34midentity\u001b[0m\u001b[48;2;39;40;34m                                                                                       \u001b[0m\n",
       "│       \u001b[38;2;248;248;242;48;2;39;40;34m    \u001b[0m\u001b[38;2;249;38;114;48;2;39;40;34mkwargs\u001b[0m\u001b[38;2;248;248;242;48;2;39;40;34m:\u001b[0m\u001b[38;2;248;248;242;48;2;39;40;34m \u001b[0m\u001b[48;2;39;40;34mnull\u001b[0m\u001b[48;2;39;40;34m                                                                                           \u001b[0m\n",
       "│       \u001b[38;2;248;248;242;48;2;39;40;34m  \u001b[0m\u001b[38;2;249;38;114;48;2;39;40;34mssm_config\u001b[0m\u001b[38;2;248;248;242;48;2;39;40;34m:\u001b[0m\u001b[48;2;39;40;34m                                                                                              \u001b[0m\n",
       "│       \u001b[38;2;248;248;242;48;2;39;40;34m    \u001b[0m\u001b[38;2;249;38;114;48;2;39;40;34mmethod\u001b[0m\u001b[38;2;248;248;242;48;2;39;40;34m:\u001b[0m\u001b[38;2;248;248;242;48;2;39;40;34m \u001b[0m\u001b[48;2;39;40;34mclosed_loop_companion\u001b[0m\u001b[48;2;39;40;34m                                                                          \u001b[0m\n",
       "│       \u001b[38;2;248;248;242;48;2;39;40;34m    \u001b[0m\u001b[38;2;249;38;114;48;2;39;40;34mkwargs\u001b[0m\u001b[38;2;248;248;242;48;2;39;40;34m:\u001b[0m\u001b[48;2;39;40;34m                                                                                                \u001b[0m\n",
       "│       \u001b[38;2;248;248;242;48;2;39;40;34m      \u001b[0m\u001b[38;2;249;38;114;48;2;39;40;34mlag\u001b[0m\u001b[38;2;248;248;242;48;2;39;40;34m:\u001b[0m\u001b[38;2;248;248;242;48;2;39;40;34m \u001b[0m\u001b[48;2;39;40;34m1\u001b[0m\u001b[48;2;39;40;34m                                                                                               \u001b[0m\n",
       "│       \u001b[38;2;248;248;242;48;2;39;40;34m      \u001b[0m\u001b[38;2;249;38;114;48;2;39;40;34mhorizon\u001b[0m\u001b[38;2;248;248;242;48;2;39;40;34m:\u001b[0m\u001b[38;2;248;248;242;48;2;39;40;34m \u001b[0m\u001b[48;2;39;40;34m1\u001b[0m\u001b[48;2;39;40;34m                                                                                           \u001b[0m\n",
       "│       \u001b[38;2;248;248;242;48;2;39;40;34m      \u001b[0m\u001b[38;2;249;38;114;48;2;39;40;34mmodel_dim\u001b[0m\u001b[38;2;248;248;242;48;2;39;40;34m:\u001b[0m\u001b[38;2;248;248;242;48;2;39;40;34m \u001b[0m\u001b[48;2;39;40;34m128\u001b[0m\u001b[48;2;39;40;34m                                                                                       \u001b[0m\n",
       "│       \u001b[38;2;248;248;242;48;2;39;40;34m      \u001b[0m\u001b[38;2;249;38;114;48;2;39;40;34mn_kernels\u001b[0m\u001b[38;2;248;248;242;48;2;39;40;34m:\u001b[0m\u001b[38;2;248;248;242;48;2;39;40;34m \u001b[0m\u001b[48;2;39;40;34m128\u001b[0m\u001b[48;2;39;40;34m                                                                                       \u001b[0m\n",
       "│       \u001b[38;2;248;248;242;48;2;39;40;34m      \u001b[0m\u001b[38;2;249;38;114;48;2;39;40;34mkernel_dim\u001b[0m\u001b[38;2;248;248;242;48;2;39;40;34m:\u001b[0m\u001b[38;2;248;248;242;48;2;39;40;34m \u001b[0m\u001b[48;2;39;40;34m64\u001b[0m\u001b[48;2;39;40;34m                                                                                       \u001b[0m\n",
       "│       \u001b[38;2;248;248;242;48;2;39;40;34m      \u001b[0m\u001b[38;2;249;38;114;48;2;39;40;34mkernel_repeat\u001b[0m\u001b[38;2;248;248;242;48;2;39;40;34m:\u001b[0m\u001b[38;2;248;248;242;48;2;39;40;34m \u001b[0m\u001b[48;2;39;40;34m1\u001b[0m\u001b[48;2;39;40;34m                                                                                     \u001b[0m\n",
       "│       \u001b[38;2;248;248;242;48;2;39;40;34m      \u001b[0m\u001b[38;2;249;38;114;48;2;39;40;34mn_heads\u001b[0m\u001b[38;2;248;248;242;48;2;39;40;34m:\u001b[0m\u001b[38;2;248;248;242;48;2;39;40;34m \u001b[0m\u001b[48;2;39;40;34m1\u001b[0m\u001b[48;2;39;40;34m                                                                                           \u001b[0m\n",
       "│       \u001b[38;2;248;248;242;48;2;39;40;34m      \u001b[0m\u001b[38;2;249;38;114;48;2;39;40;34mhead_dim\u001b[0m\u001b[38;2;248;248;242;48;2;39;40;34m:\u001b[0m\u001b[38;2;248;248;242;48;2;39;40;34m \u001b[0m\u001b[48;2;39;40;34m1\u001b[0m\u001b[48;2;39;40;34m                                                                                          \u001b[0m\n",
       "│       \u001b[38;2;248;248;242;48;2;39;40;34m      \u001b[0m\u001b[38;2;249;38;114;48;2;39;40;34mkernel_weights\u001b[0m\u001b[38;2;248;248;242;48;2;39;40;34m:\u001b[0m\u001b[38;2;248;248;242;48;2;39;40;34m \u001b[0m\u001b[48;2;39;40;34mnull\u001b[0m\u001b[48;2;39;40;34m                                                                                 \u001b[0m\n",
       "│       \u001b[38;2;248;248;242;48;2;39;40;34m      \u001b[0m\u001b[38;2;249;38;114;48;2;39;40;34mkernel_init\u001b[0m\u001b[38;2;248;248;242;48;2;39;40;34m:\u001b[0m\u001b[38;2;248;248;242;48;2;39;40;34m \u001b[0m\u001b[48;2;39;40;34mnormal\u001b[0m\u001b[48;2;39;40;34m                                                                                  \u001b[0m\n",
       "│       \u001b[38;2;248;248;242;48;2;39;40;34m      \u001b[0m\u001b[38;2;249;38;114;48;2;39;40;34mkernel_train\u001b[0m\u001b[38;2;248;248;242;48;2;39;40;34m:\u001b[0m\u001b[38;2;248;248;242;48;2;39;40;34m \u001b[0m\u001b[48;2;39;40;34mtrue\u001b[0m\u001b[48;2;39;40;34m                                                                                   \u001b[0m\n",
       "│       \u001b[38;2;248;248;242;48;2;39;40;34m      \u001b[0m\u001b[38;2;249;38;114;48;2;39;40;34mskip_connection\u001b[0m\u001b[38;2;248;248;242;48;2;39;40;34m:\u001b[0m\u001b[38;2;248;248;242;48;2;39;40;34m \u001b[0m\u001b[48;2;39;40;34mfalse\u001b[0m\u001b[48;2;39;40;34m                                                                               \u001b[0m\n",
       "│       \u001b[38;2;248;248;242;48;2;39;40;34m      \u001b[0m\u001b[38;2;249;38;114;48;2;39;40;34mnorm_order\u001b[0m\u001b[38;2;248;248;242;48;2;39;40;34m:\u001b[0m\u001b[38;2;248;248;242;48;2;39;40;34m \u001b[0m\u001b[48;2;39;40;34m1\u001b[0m\u001b[48;2;39;40;34m                                                                                        \u001b[0m\n",
       "│       \u001b[38;2;248;248;242;48;2;39;40;34m      \u001b[0m\u001b[38;2;249;38;114;48;2;39;40;34muse_initial\u001b[0m\u001b[38;2;248;248;242;48;2;39;40;34m:\u001b[0m\u001b[38;2;248;248;242;48;2;39;40;34m \u001b[0m\u001b[48;2;39;40;34mfalse\u001b[0m\u001b[48;2;39;40;34m                                                                                   \u001b[0m\n",
       "│       \u001b[38;2;248;248;242;48;2;39;40;34m  \u001b[0m\u001b[38;2;249;38;114;48;2;39;40;34mmlp_config\u001b[0m\u001b[38;2;248;248;242;48;2;39;40;34m:\u001b[0m\u001b[48;2;39;40;34m                                                                                              \u001b[0m\n",
       "│       \u001b[38;2;248;248;242;48;2;39;40;34m    \u001b[0m\u001b[38;2;249;38;114;48;2;39;40;34mmethod\u001b[0m\u001b[38;2;248;248;242;48;2;39;40;34m:\u001b[0m\u001b[38;2;248;248;242;48;2;39;40;34m \u001b[0m\u001b[48;2;39;40;34midentity\u001b[0m\u001b[48;2;39;40;34m                                                                                       \u001b[0m\n",
       "│       \u001b[38;2;248;248;242;48;2;39;40;34m    \u001b[0m\u001b[38;2;249;38;114;48;2;39;40;34mkwargs\u001b[0m\u001b[38;2;248;248;242;48;2;39;40;34m:\u001b[0m\u001b[38;2;248;248;242;48;2;39;40;34m \u001b[0m\u001b[48;2;39;40;34mnull\u001b[0m\u001b[48;2;39;40;34m                                                                                           \u001b[0m\n",
       "│       \u001b[38;2;248;248;242;48;2;39;40;34m  \u001b[0m\u001b[38;2;249;38;114;48;2;39;40;34mskip_connection\u001b[0m\u001b[38;2;248;248;242;48;2;39;40;34m:\u001b[0m\u001b[38;2;248;248;242;48;2;39;40;34m \u001b[0m\u001b[48;2;39;40;34mfalse\u001b[0m\u001b[48;2;39;40;34m                                                                                   \u001b[0m\n",
       "│       \u001b[38;2;248;248;242;48;2;39;40;34m  \u001b[0m\u001b[38;2;249;38;114;48;2;39;40;34mskip_preprocess\u001b[0m\u001b[38;2;248;248;242;48;2;39;40;34m:\u001b[0m\u001b[38;2;248;248;242;48;2;39;40;34m \u001b[0m\u001b[48;2;39;40;34mfalse\u001b[0m\u001b[48;2;39;40;34m                                                                                   \u001b[0m\n",
       "│       \u001b[48;2;39;40;34m                                                                                                           \u001b[0m\n",
       "├── output_config\n",
       "│   └── \u001b[38;2;249;38;114;48;2;39;40;34minput_dim\u001b[0m\u001b[38;2;248;248;242;48;2;39;40;34m:\u001b[0m\u001b[38;2;248;248;242;48;2;39;40;34m \u001b[0m\u001b[48;2;39;40;34m128\u001b[0m\u001b[48;2;39;40;34m                                                                                             \u001b[0m\n",
       "│       \u001b[38;2;249;38;114;48;2;39;40;34moutput_dim\u001b[0m\u001b[38;2;248;248;242;48;2;39;40;34m:\u001b[0m\u001b[38;2;248;248;242;48;2;39;40;34m \u001b[0m\u001b[48;2;39;40;34m1\u001b[0m\u001b[48;2;39;40;34m                                                                                              \u001b[0m\n",
       "│       \u001b[38;2;249;38;114;48;2;39;40;34mmethod\u001b[0m\u001b[38;2;248;248;242;48;2;39;40;34m:\u001b[0m\u001b[38;2;248;248;242;48;2;39;40;34m \u001b[0m\u001b[48;2;39;40;34mmlp\u001b[0m\u001b[48;2;39;40;34m                                                                                                \u001b[0m\n",
       "│       \u001b[38;2;249;38;114;48;2;39;40;34mkwargs\u001b[0m\u001b[38;2;248;248;242;48;2;39;40;34m:\u001b[0m\u001b[48;2;39;40;34m                                                                                                    \u001b[0m\n",
       "│       \u001b[38;2;248;248;242;48;2;39;40;34m  \u001b[0m\u001b[38;2;249;38;114;48;2;39;40;34minput_dim\u001b[0m\u001b[38;2;248;248;242;48;2;39;40;34m:\u001b[0m\u001b[38;2;248;248;242;48;2;39;40;34m \u001b[0m\u001b[48;2;39;40;34m128\u001b[0m\u001b[48;2;39;40;34m                                                                                           \u001b[0m\n",
       "│       \u001b[38;2;248;248;242;48;2;39;40;34m  \u001b[0m\u001b[38;2;249;38;114;48;2;39;40;34moutput_dim\u001b[0m\u001b[38;2;248;248;242;48;2;39;40;34m:\u001b[0m\u001b[38;2;248;248;242;48;2;39;40;34m \u001b[0m\u001b[48;2;39;40;34m1\u001b[0m\u001b[48;2;39;40;34m                                                                                            \u001b[0m\n",
       "│       \u001b[38;2;248;248;242;48;2;39;40;34m  \u001b[0m\u001b[38;2;249;38;114;48;2;39;40;34mactivation\u001b[0m\u001b[38;2;248;248;242;48;2;39;40;34m:\u001b[0m\u001b[38;2;248;248;242;48;2;39;40;34m \u001b[0m\u001b[48;2;39;40;34mgelu\u001b[0m\u001b[48;2;39;40;34m                                                                                         \u001b[0m\n",
       "│       \u001b[38;2;248;248;242;48;2;39;40;34m  \u001b[0m\u001b[38;2;249;38;114;48;2;39;40;34mdropout\u001b[0m\u001b[38;2;248;248;242;48;2;39;40;34m:\u001b[0m\u001b[38;2;248;248;242;48;2;39;40;34m \u001b[0m\u001b[48;2;39;40;34m0.2\u001b[0m\u001b[48;2;39;40;34m                                                                                             \u001b[0m\n",
       "│       \u001b[38;2;248;248;242;48;2;39;40;34m  \u001b[0m\u001b[38;2;249;38;114;48;2;39;40;34mlayernorm\u001b[0m\u001b[38;2;248;248;242;48;2;39;40;34m:\u001b[0m\u001b[38;2;248;248;242;48;2;39;40;34m \u001b[0m\u001b[48;2;39;40;34mfalse\u001b[0m\u001b[48;2;39;40;34m                                                                                         \u001b[0m\n",
       "│       \u001b[38;2;248;248;242;48;2;39;40;34m  \u001b[0m\u001b[38;2;249;38;114;48;2;39;40;34mn_layers\u001b[0m\u001b[38;2;248;248;242;48;2;39;40;34m:\u001b[0m\u001b[38;2;248;248;242;48;2;39;40;34m \u001b[0m\u001b[48;2;39;40;34m1\u001b[0m\u001b[48;2;39;40;34m                                                                                              \u001b[0m\n",
       "│       \u001b[38;2;248;248;242;48;2;39;40;34m  \u001b[0m\u001b[38;2;249;38;114;48;2;39;40;34mn_activations\u001b[0m\u001b[38;2;248;248;242;48;2;39;40;34m:\u001b[0m\u001b[38;2;248;248;242;48;2;39;40;34m \u001b[0m\u001b[48;2;39;40;34m1\u001b[0m\u001b[48;2;39;40;34m                                                                                         \u001b[0m\n",
       "│       \u001b[38;2;248;248;242;48;2;39;40;34m  \u001b[0m\u001b[38;2;249;38;114;48;2;39;40;34mpre_activation\u001b[0m\u001b[38;2;248;248;242;48;2;39;40;34m:\u001b[0m\u001b[38;2;248;248;242;48;2;39;40;34m \u001b[0m\u001b[48;2;39;40;34mtrue\u001b[0m\u001b[48;2;39;40;34m                                                                                     \u001b[0m\n",
       "│       \u001b[38;2;248;248;242;48;2;39;40;34m  \u001b[0m\u001b[38;2;249;38;114;48;2;39;40;34minput_shape\u001b[0m\u001b[38;2;248;248;242;48;2;39;40;34m:\u001b[0m\u001b[38;2;248;248;242;48;2;39;40;34m \u001b[0m\u001b[48;2;39;40;34mbld\u001b[0m\u001b[48;2;39;40;34m                                                                                         \u001b[0m\n",
       "│       \u001b[38;2;248;248;242;48;2;39;40;34m  \u001b[0m\u001b[38;2;249;38;114;48;2;39;40;34mskip_connection\u001b[0m\u001b[38;2;248;248;242;48;2;39;40;34m:\u001b[0m\u001b[38;2;248;248;242;48;2;39;40;34m \u001b[0m\u001b[48;2;39;40;34mfalse\u001b[0m\u001b[48;2;39;40;34m                                                                                   \u001b[0m\n",
       "│       \u001b[38;2;248;248;242;48;2;39;40;34m  \u001b[0m\u001b[38;2;249;38;114;48;2;39;40;34maverage_pool\u001b[0m\u001b[38;2;248;248;242;48;2;39;40;34m:\u001b[0m\u001b[38;2;248;248;242;48;2;39;40;34m \u001b[0m\u001b[48;2;39;40;34mnull\u001b[0m\u001b[48;2;39;40;34m                                                                                       \u001b[0m\n",
       "│       \u001b[48;2;39;40;34m                                                                                                           \u001b[0m\n",
       "├── lag\n",
       "│   └── \u001b[48;2;39;40;34m84\u001b[0m\u001b[48;2;39;40;34m                                                                                                         \u001b[0m\n",
       "└── horizon\n",
       "    └── \u001b[48;2;39;40;34m20\u001b[0m\u001b[48;2;39;40;34m                                                                                                         \u001b[0m\n"
      ]
     },
     "metadata": {},
     "output_type": "display_data"
    }
   ],
   "source": [
    "print_config(model_configs)  # OmegaConf config view \n",
    "# (This might render as black text, not that useful here rip)"
   ]
  },
  {
   "cell_type": "markdown",
   "metadata": {
    "id": "iztnLiKi_Ud3"
   },
   "source": [
    "### Part 1.3 SpaceTime Model Training\n",
    "\n",
    "We'll now specify the training configs and train our model"
   ]
  },
  {
   "cell_type": "code",
   "execution_count": 44,
   "metadata": {
    "colab": {
     "background_save": true
    },
    "id": "WuExT59c_t92"
   },
   "outputs": [],
   "source": [
    "from loss import get_loss\n",
    "from data_transforms import get_data_transforms\n",
    "from optimizer import get_optimizer, get_scheduler\n",
    "from setup.configs.optimizer import get_optimizer_config, get_scheduler_config\n",
    "\n",
    "from train import train_model, evaluate_model, plot_forecasts"
   ]
  },
  {
   "cell_type": "markdown",
   "metadata": {
    "id": "TM8UWGrW_vw7"
   },
   "source": [
    "#### Specify training args"
   ]
  },
  {
   "cell_type": "code",
   "execution_count": 45,
   "metadata": {
    "colab": {
     "background_save": true
    },
    "id": "tyBgrGJP_zFN"
   },
   "outputs": [],
   "source": [
    "# Hacky training args, see the README or /spacetime/setup/args.py for details\n",
    "arg_config = f\"\"\"\n",
    "lag: {dataset_configs.lag}\n",
    "horizon: {dataset_configs.horizon}\n",
    "features: S\n",
    "lr: 1e-3\n",
    "weight_decay: 1e-4\n",
    "dropout: 0.25\n",
    "criterion_weights:\n",
    "- 10\n",
    "- 1\n",
    "- 10\n",
    "optimizer: adamw\n",
    "scheduler: timm_cosine\n",
    "max_epochs: 500\n",
    "early_stopping_epochs: 20\n",
    "data_transform: mean\n",
    "loss: informer_rmse\n",
    "val_metric: informer_rmse\n",
    "seed: 42\n",
    "dataset: sp500\n",
    "variant: null\n",
    "model: SpaceTime\n",
    "\"\"\"\n",
    "class Args():\n",
    "    def __init__(self, args):\n",
    "        for k, v in args.items():\n",
    "            setattr(self, k, v)\n",
    "            \n",
    "args = Args(OmegaConf.create(arg_config))\n",
    "# GPU\n",
    "args.device = torch.device('cuda:0') if torch.cuda.is_available else torch.device('cpu')\n",
    "\n",
    "# These others are not super important\n",
    "args.checkpoint_dir = './checkpoints'\n",
    "args.log_dir = './log_dir'\n",
    "args.variant = None\n",
    "args.no_wandb = True\n",
    "args.dataset_type = 'informer'  # for standard forecasting\n",
    "args.log_epoch = 1000"
   ]
  },
  {
   "cell_type": "code",
   "execution_count": 46,
   "metadata": {
    "colab": {
     "background_save": true
    },
    "id": "Eseh10rqHjEV",
    "outputId": "fd5d5f44-7b62-42cc-ed79-db84c73c1f82"
   },
   "outputs": [
    {
     "data": {
      "text/plain": [
       "[10, 1, 10]"
      ]
     },
     "execution_count": 46,
     "metadata": {},
     "output_type": "execute_result"
    }
   ],
   "source": [
    "args.criterion_weights"
   ]
  },
  {
   "cell_type": "markdown",
   "metadata": {
    "id": "pqWtvcknAOFo"
   },
   "source": [
    "#### Initialize optimizer, scheduler, criterions, data transforms"
   ]
  },
  {
   "cell_type": "code",
   "execution_count": 47,
   "metadata": {
    "colab": {
     "background_save": true
    },
    "id": "3pQl2LLLASMA"
   },
   "outputs": [
    {
     "name": "stderr",
     "output_type": "stream",
     "text": [
      "/home/liyin/anaconda3/envs/spacetime/lib/python3.9/site-packages/torchvision/io/image.py:13: UserWarning: Failed to load image Python extension: /home/liyin/anaconda3/envs/spacetime/lib/python3.9/site-packages/torchvision/image.so: undefined symbol: _ZN2at4_ops10select_int4callERKNS_6TensorEll\n",
      "  warn(f\"Failed to load image Python extension: {e}\")\n"
     ]
    }
   ],
   "source": [
    "seed_everything(args.seed)\n",
    "model = SpaceTime(**model_configs)  # Reset model from here\n",
    "\n",
    "model.set_lag(args.lag)\n",
    "model.set_horizon(args.horizon)\n",
    "    \n",
    "# Initialize optimizer and scheduler\n",
    "optimizer = get_optimizer(model, get_optimizer_config(args, config_dir))\n",
    "scheduler = get_scheduler(model, optimizer, get_scheduler_config(args, config_dir))\n",
    "    \n",
    "# Loss objectives\n",
    "criterions = {name: get_loss(name) for name in ['rmse', 'mse', 'mae']}\n",
    "eval_criterions = criterions\n",
    "for name in ['rmse', 'mse', 'mae']:\n",
    "    eval_criterions[f'informer_{name}'] = get_loss(f'informer_{name}')\n",
    "    \n",
    "# Data transforms, e.g., normalization\n",
    "input_transform, output_transform = get_data_transforms(args.data_transform, args.lag)"
   ]
  },
  {
   "cell_type": "markdown",
   "metadata": {
    "id": "41zsrbKaAaBR"
   },
   "source": [
    "#### Train model"
   ]
  },
  {
   "cell_type": "code",
   "execution_count": 48,
   "metadata": {
    "colab": {
     "background_save": true
    },
    "id": "TJgXR7OaBGUm"
   },
   "outputs": [],
   "source": [
    "from setup import initialize_experiment"
   ]
  },
  {
   "cell_type": "code",
   "execution_count": 49,
   "metadata": {
    "colab": {
     "background_save": true
    },
    "id": "_ry4JyUhBPXJ",
    "outputId": "5c182de5-24f3-4bb8-b0cf-38f08c07f72c"
   },
   "outputs": [
    {
     "name": "stdout",
     "output_type": "stream",
     "text": [
      "-> Created model checkpoint saving directory at ./checkpoints/sp500!\n",
      "-> Created logging directory at ./log_dir/spacetime-d=sp500-f=S-horizon=20!\n"
     ]
    }
   ],
   "source": [
    "initialize_experiment(args, experiment_name_id='',\n",
    "                      best_train_metric=1e10, \n",
    "                      best_val_metric=1e10)"
   ]
  },
  {
   "cell_type": "code",
   "execution_count": 50,
   "metadata": {
    "colab": {
     "background_save": true,
     "base_uri": "https://localhost:8080/",
     "height": 35,
     "referenced_widgets": [
      "037d58f01f7740abb640dadf7d3ed7b3"
     ]
    },
    "id": "q6oFbI4BBP7z",
    "outputId": "41abc206-ed67-4b23-a48e-924212caa2b8"
   },
   "outputs": [
    {
     "data": {
      "application/vnd.jupyter.widget-view+json": {
       "model_id": "3a2657d23d7a454cb0186448c0e484f2",
       "version_major": 2,
       "version_minor": 0
      },
      "text/plain": [
       "  0%|          | 0/500 [00:00<?, ?it/s]"
      ]
     },
     "metadata": {},
     "output_type": "display_data"
    },
    {
     "name": "stdout",
     "output_type": "stream",
     "text": [
      "Early stopping at epoch 32...\n",
      "-> Saved best val model checkpoint at epoch 12!\n",
      "   - Saved to: ./checkpoints/sp500/bval-m=SpaceTime-la=84-ho=20-fe=S-dt=mean-cw=1+1+1-lo=ir-dr=0.25-lr=0.001-op=adamw-sc=tc-wd=0.0001-vm=ir-me=500-ese=20-se=42.pth\n",
      "-> Saved best train model checkpoint at epoch 32!\n",
      "   - Saved to: ./checkpoints/sp500/btrn-m=SpaceTime-la=84-ho=20-fe=S-dt=mean-cw=1+1+1-lo=ir-dr=0.25-lr=0.001-op=adamw-sc=tc-wd=0.0001-vm=ir-me=500-ese=20-se=42.pth\n",
      "Returning best val model from epoch 12\n"
     ]
    }
   ],
   "source": [
    "# Actually train model\n",
    "splits = ['train', 'val', 'test']\n",
    "dataloaders_by_split = {split: dataloaders[ix] \n",
    "                        for ix, split in enumerate(splits)}\n",
    "\n",
    "model = train_model(model, optimizer, scheduler, dataloaders_by_split, \n",
    "                    criterions, max_epochs=args.max_epochs, config=args, \n",
    "                    input_transform=input_transform,\n",
    "                    output_transform=output_transform,\n",
    "                    val_metric=args.val_metric, wandb=None, \n",
    "                    return_best=True, early_stopping_epochs=args.early_stopping_epochs) "
   ]
  },
  {
   "cell_type": "code",
   "execution_count": 68,
   "metadata": {},
   "outputs": [
    {
     "data": {
      "text/plain": [
       "(__main__.Args,\n",
       " {'lag': 84,\n",
       "  'horizon': 20,\n",
       "  'features': 'S',\n",
       "  'lr': 0.001,\n",
       "  'weight_decay': 0.0001,\n",
       "  'dropout': 0.25,\n",
       "  'criterion_weights': [1.0, 1.0, 1.0],\n",
       "  'optimizer': 'adamw',\n",
       "  'scheduler': 'timm_cosine',\n",
       "  'max_epochs': 500,\n",
       "  'early_stopping_epochs': 20,\n",
       "  'data_transform': 'mean',\n",
       "  'loss': 'informer_rmse',\n",
       "  'val_metric': 'informer_rmse',\n",
       "  'seed': 42,\n",
       "  'dataset': 'sp500',\n",
       "  'variant': None,\n",
       "  'model': 'SpaceTime',\n",
       "  'device': device(type='cuda', index=0),\n",
       "  'checkpoint_dir': './checkpoints/sp500',\n",
       "  'log_dir': './log_dir/spacetime-d=sp500-f=S-horizon=20',\n",
       "  'no_wandb': True,\n",
       "  'dataset_type': 'informer',\n",
       "  'log_epoch': 1000,\n",
       "  'experiment_name': 'm=SpaceTime-la=84-ho=20-fe=S-dt=mean-cw=1+1+1-lo=ir-dr=0.25-lr=0.001-op=adamw-sc=tc-wd=0.0001-vm=ir-me=500-ese=20-se=42',\n",
       "  'dataset_name': 'sp500',\n",
       "  'best_train_metric': 31.996358949310924,\n",
       "  'best_val_metric': 110.00762471285734,\n",
       "  'best_train_checkpoint_path': './checkpoints/sp500/btrn-m=SpaceTime-la=84-ho=20-fe=S-dt=mean-cw=1+1+1-lo=ir-dr=0.25-lr=0.001-op=adamw-sc=tc-wd=0.0001-vm=ir-me=500-ese=20-se=42.pth',\n",
       "  'best_val_checkpoint_path': './checkpoints/sp500/bval-m=SpaceTime-la=84-ho=20-fe=S-dt=mean-cw=1+1+1-lo=ir-dr=0.25-lr=0.001-op=adamw-sc=tc-wd=0.0001-vm=ir-me=500-ese=20-se=42.pth',\n",
       "  'log_results_path': './log_dir/spacetime-d=sp500-f=S-horizon=20/r-m=SpaceTime-la=84-ho=20-fe=S-dt=mean-cw=1+1+1-lo=ir-dr=0.25-lr=0.001-op=adamw-sc=tc-wd=0.0001-vm=ir-me=500-ese=20-se=42.csv',\n",
       "  'log_configs_path': './log_dir/spacetime-d=sp500-f=S-horizon=20/c-m=SpaceTime-la=84-ho=20-fe=S-dt=mean-cw=1+1+1-lo=ir-dr=0.25-lr=0.001-op=adamw-sc=tc-wd=0.0001-vm=ir-me=500-ese=20-se=42.csv',\n",
       "  'log_results_dict': {'epoch': [0,\n",
       "    0,\n",
       "    0,\n",
       "    1,\n",
       "    1,\n",
       "    1,\n",
       "    2,\n",
       "    2,\n",
       "    2,\n",
       "    3,\n",
       "    3,\n",
       "    3,\n",
       "    4,\n",
       "    4,\n",
       "    4,\n",
       "    5,\n",
       "    5,\n",
       "    5,\n",
       "    6,\n",
       "    6,\n",
       "    6,\n",
       "    7,\n",
       "    7,\n",
       "    7,\n",
       "    8,\n",
       "    8,\n",
       "    8,\n",
       "    9,\n",
       "    9,\n",
       "    9,\n",
       "    10,\n",
       "    10,\n",
       "    10,\n",
       "    11,\n",
       "    11,\n",
       "    11,\n",
       "    12,\n",
       "    12,\n",
       "    12,\n",
       "    13,\n",
       "    13,\n",
       "    13,\n",
       "    14,\n",
       "    14,\n",
       "    14,\n",
       "    15,\n",
       "    15,\n",
       "    15,\n",
       "    16,\n",
       "    16,\n",
       "    16,\n",
       "    17,\n",
       "    17,\n",
       "    17,\n",
       "    18,\n",
       "    18,\n",
       "    18,\n",
       "    19,\n",
       "    19,\n",
       "    19,\n",
       "    20,\n",
       "    20,\n",
       "    20,\n",
       "    21,\n",
       "    21,\n",
       "    21,\n",
       "    22,\n",
       "    22,\n",
       "    22,\n",
       "    23,\n",
       "    23,\n",
       "    23,\n",
       "    24,\n",
       "    24,\n",
       "    24,\n",
       "    25,\n",
       "    25,\n",
       "    25,\n",
       "    26,\n",
       "    26,\n",
       "    26,\n",
       "    27,\n",
       "    27,\n",
       "    27,\n",
       "    28,\n",
       "    28,\n",
       "    28,\n",
       "    29,\n",
       "    29,\n",
       "    29,\n",
       "    30,\n",
       "    30,\n",
       "    30,\n",
       "    31,\n",
       "    31,\n",
       "    31,\n",
       "    32,\n",
       "    32,\n",
       "    32],\n",
       "   'split': ['train',\n",
       "    'val',\n",
       "    'test',\n",
       "    'train',\n",
       "    'val',\n",
       "    'test',\n",
       "    'train',\n",
       "    'val',\n",
       "    'test',\n",
       "    'train',\n",
       "    'val',\n",
       "    'test',\n",
       "    'train',\n",
       "    'val',\n",
       "    'test',\n",
       "    'train',\n",
       "    'val',\n",
       "    'test',\n",
       "    'train',\n",
       "    'val',\n",
       "    'test',\n",
       "    'train',\n",
       "    'val',\n",
       "    'test',\n",
       "    'train',\n",
       "    'val',\n",
       "    'test',\n",
       "    'train',\n",
       "    'val',\n",
       "    'test',\n",
       "    'train',\n",
       "    'val',\n",
       "    'test',\n",
       "    'train',\n",
       "    'val',\n",
       "    'test',\n",
       "    'train',\n",
       "    'val',\n",
       "    'test',\n",
       "    'train',\n",
       "    'val',\n",
       "    'test',\n",
       "    'train',\n",
       "    'val',\n",
       "    'test',\n",
       "    'train',\n",
       "    'val',\n",
       "    'test',\n",
       "    'train',\n",
       "    'val',\n",
       "    'test',\n",
       "    'train',\n",
       "    'val',\n",
       "    'test',\n",
       "    'train',\n",
       "    'val',\n",
       "    'test',\n",
       "    'train',\n",
       "    'val',\n",
       "    'test',\n",
       "    'train',\n",
       "    'val',\n",
       "    'test',\n",
       "    'train',\n",
       "    'val',\n",
       "    'test',\n",
       "    'train',\n",
       "    'val',\n",
       "    'test',\n",
       "    'train',\n",
       "    'val',\n",
       "    'test',\n",
       "    'train',\n",
       "    'val',\n",
       "    'test',\n",
       "    'train',\n",
       "    'val',\n",
       "    'test',\n",
       "    'train',\n",
       "    'val',\n",
       "    'test',\n",
       "    'train',\n",
       "    'val',\n",
       "    'test',\n",
       "    'train',\n",
       "    'val',\n",
       "    'test',\n",
       "    'train',\n",
       "    'val',\n",
       "    'test',\n",
       "    'train',\n",
       "    'val',\n",
       "    'test',\n",
       "    'train',\n",
       "    'val',\n",
       "    'test',\n",
       "    'train',\n",
       "    'val',\n",
       "    'test'],\n",
       "   'total': [125080.0,\n",
       "    13880.0,\n",
       "    11780.0,\n",
       "    125080.0,\n",
       "    13880.0,\n",
       "    11780.0,\n",
       "    125080.0,\n",
       "    13880.0,\n",
       "    11780.0,\n",
       "    125080.0,\n",
       "    13880.0,\n",
       "    11780.0,\n",
       "    125080.0,\n",
       "    13880.0,\n",
       "    11780.0,\n",
       "    125080.0,\n",
       "    13880.0,\n",
       "    11780.0,\n",
       "    125080.0,\n",
       "    13880.0,\n",
       "    11780.0,\n",
       "    125080.0,\n",
       "    13880.0,\n",
       "    11780.0,\n",
       "    125080.0,\n",
       "    13880.0,\n",
       "    11780.0,\n",
       "    125080.0,\n",
       "    13880.0,\n",
       "    11780.0,\n",
       "    125080.0,\n",
       "    13880.0,\n",
       "    11780.0,\n",
       "    125080.0,\n",
       "    13880.0,\n",
       "    11780.0,\n",
       "    125080.0,\n",
       "    13880.0,\n",
       "    11780.0,\n",
       "    125080.0,\n",
       "    13880.0,\n",
       "    11780.0,\n",
       "    125080.0,\n",
       "    13880.0,\n",
       "    11780.0,\n",
       "    125080.0,\n",
       "    13880.0,\n",
       "    11780.0,\n",
       "    125080.0,\n",
       "    13880.0,\n",
       "    11780.0,\n",
       "    125080.0,\n",
       "    13880.0,\n",
       "    11780.0,\n",
       "    125080.0,\n",
       "    13880.0,\n",
       "    11780.0,\n",
       "    125080.0,\n",
       "    13880.0,\n",
       "    11780.0,\n",
       "    125080.0,\n",
       "    13880.0,\n",
       "    11780.0,\n",
       "    125080.0,\n",
       "    13880.0,\n",
       "    11780.0,\n",
       "    125080.0,\n",
       "    13880.0,\n",
       "    11780.0,\n",
       "    125080.0,\n",
       "    13880.0,\n",
       "    11780.0,\n",
       "    125080.0,\n",
       "    13880.0,\n",
       "    11780.0,\n",
       "    125080.0,\n",
       "    13880.0,\n",
       "    11780.0,\n",
       "    125080.0,\n",
       "    13880.0,\n",
       "    11780.0,\n",
       "    125080.0,\n",
       "    13880.0,\n",
       "    11780.0,\n",
       "    125080.0,\n",
       "    13880.0,\n",
       "    11780.0,\n",
       "    125080.0,\n",
       "    13880.0,\n",
       "    11780.0,\n",
       "    125080.0,\n",
       "    13880.0,\n",
       "    11780.0,\n",
       "    125080.0,\n",
       "    13880.0,\n",
       "    11780.0,\n",
       "    125080.0,\n",
       "    13880.0,\n",
       "    11780.0],\n",
       "   'rmse': [20.994521010459557,\n",
       "    56.66415945267471,\n",
       "    75.24300373381791,\n",
       "    20.381108461678277,\n",
       "    54.796762498311416,\n",
       "    72.69983096681345,\n",
       "    12.668890630699478,\n",
       "    22.540254602789535,\n",
       "    29.21569484328576,\n",
       "    7.998199080322968,\n",
       "    14.31140752347127,\n",
       "    18.565569581321625,\n",
       "    5.2575842486199456,\n",
       "    9.838787419651702,\n",
       "    12.572070374675032,\n",
       "    3.3873610440099586,\n",
       "    7.383046386015175,\n",
       "    9.290208593086799,\n",
       "    2.414992967489088,\n",
       "    6.043290143191642,\n",
       "    7.928487418260558,\n",
       "    2.0956627919264483,\n",
       "    6.725441431930498,\n",
       "    8.04430167905746,\n",
       "    1.975333443334547,\n",
       "    6.1896391063327405,\n",
       "    7.533584112870066,\n",
       "    1.8978457725044253,\n",
       "    5.577270842010762,\n",
       "    7.0986083051749524,\n",
       "    1.8612074400313487,\n",
       "    5.69463313649642,\n",
       "    7.451673658594413,\n",
       "    1.8488573538521285,\n",
       "    5.480706602420862,\n",
       "    7.316490103392933,\n",
       "    1.8049651631159183,\n",
       "    5.130350918728611,\n",
       "    7.1360544926849006,\n",
       "    1.77641565086821,\n",
       "    5.212595514742716,\n",
       "    7.132805194433759,\n",
       "    1.7506595832378216,\n",
       "    6.131149617395758,\n",
       "    7.1675549751631475,\n",
       "    1.725820169915473,\n",
       "    5.603664545504436,\n",
       "    6.978785640800748,\n",
       "    1.6927421342918656,\n",
       "    5.455362923481966,\n",
       "    6.957070047219864,\n",
       "    1.6996009072748128,\n",
       "    5.210106938166989,\n",
       "    7.063003109995092,\n",
       "    1.6664392413367164,\n",
       "    5.68356893138171,\n",
       "    7.128868748093299,\n",
       "    1.6379407269679436,\n",
       "    5.407104078837018,\n",
       "    6.879161260893065,\n",
       "    1.6203028582215195,\n",
       "    5.255860307237257,\n",
       "    7.064456606801783,\n",
       "    1.6093407223771317,\n",
       "    5.526887499014995,\n",
       "    6.878744460204664,\n",
       "    1.5943940514301316,\n",
       "    5.719917055509276,\n",
       "    6.986252002036025,\n",
       "    1.5678113260930973,\n",
       "    5.7065119322851,\n",
       "    7.0713821385226545,\n",
       "    1.5509675150677005,\n",
       "    5.388800796376868,\n",
       "    6.875433069821732,\n",
       "    1.530513304004968,\n",
       "    5.89634634232315,\n",
       "    6.9048214768310965,\n",
       "    1.530272998815914,\n",
       "    5.390110695259028,\n",
       "    7.460238186329452,\n",
       "    1.512870766127647,\n",
       "    5.839834550753107,\n",
       "    7.0065681600003975,\n",
       "    1.485653755083075,\n",
       "    5.789585142108137,\n",
       "    6.894377843471456,\n",
       "    1.466002915604716,\n",
       "    5.928083744104039,\n",
       "    7.091678037789156,\n",
       "    1.4434046836489491,\n",
       "    5.384500315553517,\n",
       "    7.040083600547804,\n",
       "    1.435413580913684,\n",
       "    5.823323749465283,\n",
       "    7.029307092430232,\n",
       "    1.417538631233042,\n",
       "    5.644290293053179,\n",
       "    7.1879922293645215],\n",
       "   'mse': [301829.49638631276,\n",
       "    2469534.7919308357,\n",
       "    3326862.3945670626,\n",
       "    284462.61925167893,\n",
       "    2284024.012391931,\n",
       "    3081316.6139219017,\n",
       "    92484.5459385993,\n",
       "    299924.9250720461,\n",
       "    390945.9008488964,\n",
       "    34281.13658058843,\n",
       "    121775.09517291066,\n",
       "    160064.4441426146,\n",
       "    14857.006459865686,\n",
       "    59870.02121757925,\n",
       "    74416.78786078098,\n",
       "    6162.800772505597,\n",
       "    34769.23195244957,\n",
       "    41463.434762309,\n",
       "    3209.3184192117046,\n",
       "    26628.230182817002,\n",
       "    32754.18331918506,\n",
       "    2478.657703070035,\n",
       "    28565.481123919308,\n",
       "    30961.30415959253,\n",
       "    2225.5126529021427,\n",
       "    25653.6190471902,\n",
       "    27757.399342105262,\n",
       "    2055.990493334266,\n",
       "    23146.150072046108,\n",
       "    26567.131037775893,\n",
       "    1975.8017883554526,\n",
       "    22506.56086995677,\n",
       "    27883.66863327674,\n",
       "    1941.357170410937,\n",
       "    21441.706240994237,\n",
       "    27430.98798811545,\n",
       "    1852.841174148545,\n",
       "    21076.126819164267,\n",
       "    27953.131218166385,\n",
       "    1785.6126763871123,\n",
       "    21665.943124099424,\n",
       "    28132.717317487266,\n",
       "    1732.6155183182764,\n",
       "    25469.171172550432,\n",
       "    24490.744015280135,\n",
       "    1683.9944305644387,\n",
       "    23044.149729827088,\n",
       "    24441.56150254669,\n",
       "    1601.3308612488008,\n",
       "    22024.48705871758,\n",
       "    24583.382767402378,\n",
       "    1611.396462513991,\n",
       "    21175.709082312682,\n",
       "    26582.22748302207,\n",
       "    1530.5126226714901,\n",
       "    22317.868560878964,\n",
       "    24843.958616298813,\n",
       "    1486.3245575331787,\n",
       "    22767.21005943804,\n",
       "    25184.639813242786,\n",
       "    1448.267365760913,\n",
       "    21612.269276837174,\n",
       "    27052.306515280135,\n",
       "    1419.75676267189,\n",
       "    22934.894862211815,\n",
       "    24212.247389643464,\n",
       "    1378.7805964182924,\n",
       "    22924.507186599425,\n",
       "    24039.297686757214,\n",
       "    1327.8408848337065,\n",
       "    24673.55153998559,\n",
       "    25725.356281833618,\n",
       "    1293.5326186240807,\n",
       "    22741.111266210373,\n",
       "    25247.4082024618,\n",
       "    1254.5738554824911,\n",
       "    24790.48320425072,\n",
       "    23380.56466468591,\n",
       "    1249.3759516409498,\n",
       "    23119.456799351585,\n",
       "    30096.384719864178,\n",
       "    1221.6598571913976,\n",
       "    24829.195217939483,\n",
       "    24779.6017614601,\n",
       "    1163.5684541893188,\n",
       "    25518.288211455332,\n",
       "    24222.575933786076,\n",
       "    1133.1023592400863,\n",
       "    24641.03747298271,\n",
       "    24914.561396434634,\n",
       "    1084.887485259434,\n",
       "    21816.114098523056,\n",
       "    26094.523599320884,\n",
       "    1068.1171690118324,\n",
       "    24384.500522334292,\n",
       "    25092.64066213922,\n",
       "    1035.983034857691,\n",
       "    23131.78667146974,\n",
       "    26670.44038624788],\n",
       "   'mae': [359.92016122181803,\n",
       "    1001.594443443804,\n",
       "    1335.6116259019525,\n",
       "    348.2491510433323,\n",
       "    963.8990757835014,\n",
       "    1284.5702833191851,\n",
       "    206.516672329709,\n",
       "    369.0807394857709,\n",
       "    470.94070657364176,\n",
       "    128.96476945379956,\n",
       "    235.7531233114193,\n",
       "    301.2978373036927,\n",
       "    85.0574690010893,\n",
       "    164.71255290886168,\n",
       "    207.0477056584253,\n",
       "    55.51342275318796,\n",
       "    126.66652388778819,\n",
       "    158.44088199013157,\n",
       "    40.55481131919321,\n",
       "    105.17279710577269,\n",
       "    138.29204773052845,\n",
       "    35.85714908083826,\n",
       "    121.64845720010807,\n",
       "    143.42333801994906,\n",
       "    33.96835348814259,\n",
       "    110.97654294060699,\n",
       "    133.81348253130307,\n",
       "    32.636445370275524,\n",
       "    98.04200794758646,\n",
       "    125.01232906011248,\n",
       "    31.989038733960264,\n",
       "    101.4499890242255,\n",
       "    132.5239853034805,\n",
       "    31.806624697693476,\n",
       "    96.3846135120227,\n",
       "    129.99673804912987,\n",
       "    30.976251238270006,\n",
       "    89.03875257508555,\n",
       "    125.22261745278014,\n",
       "    30.4338967279691,\n",
       "    90.28827379210195,\n",
       "    125.15839495569821,\n",
       "    29.969124978763592,\n",
       "    110.36538114080511,\n",
       "    126.97519166489813,\n",
       "    29.48533845370213,\n",
       "    98.98769700108069,\n",
       "    122.00291144949067,\n",
       "    28.865965781899583,\n",
       "    96.3878574162464,\n",
       "    121.49514636831493,\n",
       "    29.01748469651298,\n",
       "    90.3571123018732,\n",
       "    123.29631575631366,\n",
       "    28.314682579711484,\n",
       "    101.23082475909582,\n",
       "    126.1608091707343,\n",
       "    27.830643446787807,\n",
       "    94.13168101022154,\n",
       "    119.61043794434423,\n",
       "    27.472007040494084,\n",
       "    92.03446660550252,\n",
       "    123.2515679714028,\n",
       "    27.2336912852337,\n",
       "    96.60763702832313,\n",
       "    119.78425197633702,\n",
       "    26.995181724321434,\n",
       "    100.6603625382745,\n",
       "    122.5382537271859,\n",
       "    26.49590422285987,\n",
       "    100.79453406430115,\n",
       "    123.20577697235781,\n",
       "    26.16000929717481,\n",
       "    93.46300558920208,\n",
       "    118.66202067195458,\n",
       "    25.830124524991504,\n",
       "    104.86128830263868,\n",
       "    120.38322434741086,\n",
       "    25.784699526677926,\n",
       "    93.71508943849064,\n",
       "    129.74144322341894,\n",
       "    25.455752127232323,\n",
       "    102.92969158073667,\n",
       "    121.74806395240874,\n",
       "    24.941383658989498,\n",
       "    102.34316237391931,\n",
       "    119.19993931716893,\n",
       "    24.58814577810826,\n",
       "    105.79230935923991,\n",
       "    123.6125306730157,\n",
       "    24.15377297982416,\n",
       "    93.81396709519092,\n",
       "    121.3063773344652,\n",
       "    23.970749197076373,\n",
       "    102.91342027647694,\n",
       "    121.56582080990026,\n",
       "    23.710144569975217,\n",
       "    99.55772300522334,\n",
       "    124.92398331387946],\n",
       "   'informer_rmse': [539.147122285804,\n",
       "    1165.5184839422052,\n",
       "    1530.1467734888981,\n",
       "    522.3949444829201,\n",
       "    1126.1760129061613,\n",
       "    1478.1738457930715,\n",
       "    294.00603344975684,\n",
       "    460.08013569224966,\n",
       "    586.3088041606702,\n",
       "    182.53599252506177,\n",
       "    293.1455868807706,\n",
       "    374.9263024581106,\n",
       "    120.26036336470624,\n",
       "    202.3131297718395,\n",
       "    254.92101488615336,\n",
       "    77.52811838656055,\n",
       "    153.13042120500043,\n",
       "    191.15952421489516,\n",
       "    56.08121221892688,\n",
       "    127.38779640197754,\n",
       "    164.75655967310854,\n",
       "    49.33831646977639,\n",
       "    140.94140087474477,\n",
       "    168.22888223748458,\n",
       "    46.76172503646539,\n",
       "    130.31365966796875,\n",
       "    157.06223578202096,\n",
       "    44.90197765583895,\n",
       "    118.41049246354537,\n",
       "    149.4172198646947,\n",
       "    44.07918325735598,\n",
       "    120.74900332364169,\n",
       "    155.44508562589945,\n",
       "    43.57772819363341,\n",
       "    116.9854666969993,\n",
       "    154.33802032470703,\n",
       "    42.64588858156788,\n",
       "    110.00762471285734,\n",
       "    149.85619936491312,\n",
       "    41.850843731237916,\n",
       "    111.7837893746116,\n",
       "    149.10332589400443,\n",
       "    41.285650798252654,\n",
       "    130.17022722417659,\n",
       "    149.32962598298727,\n",
       "    40.691482981856986,\n",
       "    119.22800202803178,\n",
       "    145.0949966029117,\n",
       "    39.71207549620648,\n",
       "    116.72216900912198,\n",
       "    144.55571305124383,\n",
       "    39.80502545103735,\n",
       "    111.43418190696023,\n",
       "    146.9679896706029,\n",
       "    38.8341440473284,\n",
       "    121.22715152393688,\n",
       "    149.0790911222759,\n",
       "    38.21114386344443,\n",
       "    115.80681488730691,\n",
       "    143.8223318802683,\n",
       "    37.74172580485441,\n",
       "    112.77959078008479,\n",
       "    146.16063890959086,\n",
       "    37.36370755215081,\n",
       "    118.15547128157182,\n",
       "    143.15382867110404,\n",
       "    36.880187209771606,\n",
       "    122.52488552440296,\n",
       "    146.21299663342927,\n",
       "    36.18317282929712,\n",
       "    121.29672449285334,\n",
       "    146.76235881604646,\n",
       "    35.73570712731809,\n",
       "    115.57423686981201,\n",
       "    142.89113697252776,\n",
       "    35.209691524505615,\n",
       "    126.02988815307617,\n",
       "    143.52238384046052,\n",
       "    35.12552537723463,\n",
       "    116.20019089091907,\n",
       "    154.20855873509458,\n",
       "    34.6828087106043,\n",
       "    124.73675883900036,\n",
       "    146.0634183381733,\n",
       "    33.91073412797889,\n",
       "    124.6756636879661,\n",
       "    143.0935526396099,\n",
       "    33.41111944159683,\n",
       "    125.80249977111816,\n",
       "    146.19735115452818,\n",
       "    32.76992047562891,\n",
       "    115.63669170032848,\n",
       "    145.77554622449372,\n",
       "    32.53305677491792,\n",
       "    124.5091100172563,\n",
       "    145.444874010588,\n",
       "    31.996358949310924,\n",
       "    120.71875312111594,\n",
       "    148.46801818044563],\n",
       "   'informer_mse': [301335.1076211735,\n",
       "    2443004.6232244316,\n",
       "    3286820.1768092103,\n",
       "    284041.8632413903,\n",
       "    2259644.694247159,\n",
       "    3043454.606907895,\n",
       "    92370.72466916454,\n",
       "    299050.40980113635,\n",
       "    383719.4646381579,\n",
       "    34248.56975446428,\n",
       "    121379.57492897728,\n",
       "    157663.25493421053,\n",
       "    14840.004504145409,\n",
       "    59668.50403941761,\n",
       "    73430.93883634868,\n",
       "    6159.188038105867,\n",
       "    34690.74171031605,\n",
       "    41283.54024465461,\n",
       "    3205.99684672453,\n",
       "    26503.755404385654,\n",
       "    32394.435161389803,\n",
       "    2477.1794994120696,\n",
       "    28701.47645152699,\n",
       "    31166.84886410362,\n",
       "    2225.1997823909837,\n",
       "    25668.352672230114,\n",
       "    27643.101999383223,\n",
       "    2055.1018807547434,\n",
       "    23080.693337180397,\n",
       "    26485.342901932567,\n",
       "    1977.28115720165,\n",
       "    22460.700639204544,\n",
       "    27607.272897820723,\n",
       "    1939.222988517917,\n",
       "    21452.635398171165,\n",
       "    27549.754034745067,\n",
       "    1853.0458598234216,\n",
       "    20975.22920920632,\n",
       "    27586.590871710527,\n",
       "    1783.3342708665498,\n",
       "    21561.467570911755,\n",
       "    27599.25187602796,\n",
       "    1733.7904314313616,\n",
       "    25549.738370028408,\n",
       "    24421.840614720393,\n",
       "    1687.0124175402582,\n",
       "    23013.86288729581,\n",
       "    24239.063450863487,\n",
       "    1604.5325812514948,\n",
       "    22013.108309659092,\n",
       "    24260.51097347862,\n",
       "    1610.584899279536,\n",
       "    21068.48271040483,\n",
       "    26147.78460372122,\n",
       "    1530.206019498864,\n",
       "    22305.36837491122,\n",
       "    24838.583958675987,\n",
       "    1485.0985695975166,\n",
       "    22676.29776833274,\n",
       "    24888.44671309622,\n",
       "    1446.4383208605707,\n",
       "    21512.503085049717,\n",
       "    26474.52562191612,\n",
       "    1419.4609459079043,\n",
       "    22812.087851784447,\n",
       "    23981.57958984375,\n",
       "    1378.9855857382015,\n",
       "    22883.45263671875,\n",
       "    23958.03759765625,\n",
       "    1328.178059792032,\n",
       "    24527.245949485085,\n",
       "    25412.46427837171,\n",
       "    1295.839634798011,\n",
       "    22601.398848100143,\n",
       "    24785.236687911183,\n",
       "    1254.154888230927,\n",
       "    24757.293046431107,\n",
       "    23296.08552631579,\n",
       "    1250.5981345663265,\n",
       "    22945.098319313744,\n",
       "    29427.7265625,\n",
       "    1220.7854654740313,\n",
       "    24721.585515802555,\n",
       "    24638.827174136513,\n",
       "    1164.1261845802774,\n",
       "    25397.689225630325,\n",
       "    23903.0439453125,\n",
       "    1132.4084441515863,\n",
       "    24535.739379882812,\n",
       "    24529.896047491777,\n",
       "    1087.8040024115114,\n",
       "    21685.856489701706,\n",
       "    25591.944502981085,\n",
       "    1067.7037587068519,\n",
       "    24269.325750177555,\n",
       "    24672.64527652138,\n",
       "    1036.3274539246852,\n",
       "    23012.06347101385,\n",
       "    26178.327842310857],\n",
       "   'informer_mae': [359.63516141930404,\n",
       "    995.7428255948154,\n",
       "    1334.9724329898231,\n",
       "    347.9906450388383,\n",
       "    958.2824235395951,\n",
       "    1283.5871871145148,\n",
       "    206.38188288163167,\n",
       "    369.5069822831587,\n",
       "    465.99245573344984,\n",
       "    128.91895660088986,\n",
       "    235.99810548262164,\n",
       "    299.04900239643297,\n",
       "    85.0213687857803,\n",
       "    164.87304306030273,\n",
       "    205.69570320530943,\n",
       "    55.49875779054603,\n",
       "    126.90480145541105,\n",
       "    158.61605553877982,\n",
       "    40.53337201293634,\n",
       "    105.32056938518177,\n",
       "    138.0786576522024,\n",
       "    35.85483901354731,\n",
       "    122.51216663013805,\n",
       "    144.741415324964,\n",
       "    33.967870760937124,\n",
       "    111.52246822010387,\n",
       "    134.19942795602898,\n",
       "    32.62742019186214,\n",
       "    98.2488623532382,\n",
       "    125.66584055047286,\n",
       "    32.0087946191126,\n",
       "    101.73201248862527,\n",
       "    132.3649175543534,\n",
       "    31.789482564342265,\n",
       "    96.7320345098322,\n",
       "    131.17716759129576,\n",
       "    30.971035684858048,\n",
       "    89.08281508359042,\n",
       "    124.9058767619886,\n",
       "    30.418843288810887,\n",
       "    90.3394643610174,\n",
       "    124.09333379645096,\n",
       "    29.980776183459223,\n",
       "    111.00479264692827,\n",
       "    127.36788900274979,\n",
       "    29.50048847587741,\n",
       "    99.2449933832342,\n",
       "    121.932911119963,\n",
       "    28.89341688156128,\n",
       "    96.64731892672452,\n",
       "    121.03395923815276,\n",
       "    29.015980496698496,\n",
       "    90.33324397693981,\n",
       "    122.49676834909539,\n",
       "    28.31914252650981,\n",
       "    101.46559663252397,\n",
       "    126.70583985981189,\n",
       "    27.82479105190355,\n",
       "    94.09094550392844,\n",
       "    119.3156882838199,\n",
       "    27.452007517522695,\n",
       "    91.98296442898837,\n",
       "    121.89081131784539,\n",
       "    27.23697736311932,\n",
       "    96.52340533516623,\n",
       "    119.54676778692948,\n",
       "    27.00540323646701,\n",
       "    100.76806380532004,\n",
       "    122.77798783151727,\n",
       "    26.500244247670075,\n",
       "    100.67710477655584,\n",
       "    122.81576096384148,\n",
       "    26.186120802042435,\n",
       "    93.29770157553934,\n",
       "    117.59626950715717,\n",
       "    25.831419789061254,\n",
       "    105.06024048545144,\n",
       "    120.62387406198602,\n",
       "    25.788044296965307,\n",
       "    93.51066103848544,\n",
       "    128.10779772306742,\n",
       "    25.447487198576635,\n",
       "    102.90875244140625,\n",
       "    121.89869649786698,\n",
       "    24.944400203471282,\n",
       "    102.25496222756125,\n",
       "    118.67454749659488,\n",
       "    24.57398051631694,\n",
       "    105.81709185513583,\n",
       "    122.81646567896793,\n",
       "    24.16519935763612,\n",
       "    93.66101906516336,\n",
       "    120.09789256045693,\n",
       "    23.967562792252522,\n",
       "    102.82468605041504,\n",
       "    120.56640584845292,\n",
       "    23.71702393706964,\n",
       "    99.47910863702947,\n",
       "    123.79506362111945]},\n",
       "  'best_val_metric_epoch': 12,\n",
       "  'best_train_metric_epoch': 32,\n",
       "  'learned_c_weights': []})"
      ]
     },
     "execution_count": 68,
     "metadata": {},
     "output_type": "execute_result"
    }
   ],
   "source": [
    "type(args), vars(args)"
   ]
  },
  {
   "cell_type": "markdown",
   "metadata": {
    "id": "DSkT1TFlCUgU"
   },
   "source": [
    "### Evaluate model"
   ]
  },
  {
   "cell_type": "code",
   "execution_count": 51,
   "metadata": {
    "colab": {
     "background_save": true
    },
    "id": "eagNfO7ACX1a"
   },
   "outputs": [],
   "source": [
    "from dataloaders import get_evaluation_loaders\n",
    "from train.evaluate import plot_forecasts"
   ]
  },
  {
   "cell_type": "code",
   "execution_count": 52,
   "metadata": {
    "colab": {
     "background_save": true
    },
    "id": "85EfPo5hG9W7",
    "outputId": "e955bdeb-aca5-4a17-bbcd-db03ba465450"
   },
   "outputs": [
    {
     "name": "stdout",
     "output_type": "stream",
     "text": [
      "-----------------------------------------\n",
      "Best validation model: eval_train metrics\n",
      "-----------------------------------------\n",
      "- total: 125080.0\n",
      "- rmse: 1.6291484145947375\n",
      "- mse: 1624.717153853565\n",
      "- mae: 28.12534988740019\n",
      "- informer_rmse: 34.505844563853984\n",
      "- informer_mse: 1628.2766604520837\n",
      "- informer_mae: 28.152695627845063\n",
      "----------------------------------\n",
      "Best validation model: val metrics\n",
      "----------------------------------\n",
      "- total: 13880.0\n",
      "- rmse: 5.130350918728611\n",
      "- mse: 21076.126819164267\n",
      "- mae: 89.03875257508555\n",
      "- informer_rmse: 110.00762471285734\n",
      "- informer_mse: 20975.22920920632\n",
      "- informer_mae: 89.08281508359042\n",
      "-----------------------------------\n",
      "Best validation model: test metrics\n",
      "-----------------------------------\n",
      "- total: 11780.0\n",
      "- rmse: 7.1360544926849006\n",
      "- mse: 27953.131218166385\n",
      "- mae: 125.22261745278014\n",
      "- informer_rmse: 149.85619936491312\n",
      "- informer_mse: 27586.590871710527\n",
      "- informer_mae: 124.9058767619886\n"
     ]
    },
    {
     "data": {
      "image/png": "[encoded data removed]",
      "text/plain": [
       "<Figure size 1920x480 with 3 Axes>"
      ]
     },
     "metadata": {},
     "output_type": "display_data"
    }
   ],
   "source": [
    "eval_splits = ['eval_train', 'val', 'test']\n",
    "eval_loaders = get_evaluation_loaders(dataloaders, batch_size=dataloader_configs.batch_size)\n",
    "eval_loaders_by_split = {split: eval_loaders[ix] for ix, split in\n",
    "                         enumerate(eval_splits)}\n",
    "model, log_metrics, total_y = evaluate_model(model, dataloaders=eval_loaders_by_split, \n",
    "                                             optimizer=optimizer, scheduler=scheduler, \n",
    "                                             criterions=eval_criterions, config=args,\n",
    "                                             epoch=args.best_val_metric_epoch, \n",
    "                                             input_transform=input_transform, \n",
    "                                             output_transform=output_transform,\n",
    "                                             val_metric=args.val_metric, wandb=None,\n",
    "                                             train=False)\n",
    "n_plots = len(splits) # train, val, test\n",
    "fig, axes = plt.subplots(1, n_plots, figsize=(6.4 * n_plots, 4.8))\n",
    "\n",
    "plot_forecasts(total_y, splits=eval_splits, axes=axes)"
   ]
  },
  {
   "cell_type": "code",
   "execution_count": 53,
   "metadata": {
    "colab": {
     "background_save": true
    },
    "id": "q31JDyqQCgV_",
    "outputId": "9e539aa0-64b9-4e8c-a483-c5924f6b1175"
   },
   "outputs": [
    {
     "name": "stdout",
     "output_type": "stream",
     "text": [
      "-----------------------------------------\n",
      "Best validation model: eval_train metrics\n",
      "-----------------------------------------\n",
      "- total: 125080.0\n",
      "- rmse: 1.6291484145947375\n",
      "- mse: 1624.717153853565\n",
      "- mae: 28.12534988740019\n",
      "- informer_rmse: 34.505844563853984\n",
      "- informer_mse: 1628.2766604520837\n",
      "- informer_mae: 28.152695627845063\n",
      "----------------------------------\n",
      "Best validation model: val metrics\n",
      "----------------------------------\n",
      "- total: 13880.0\n",
      "- rmse: 5.130350918728611\n",
      "- mse: 21076.126819164267\n",
      "- mae: 89.03875257508555\n",
      "- informer_rmse: 110.00762471285734\n",
      "- informer_mse: 20975.22920920632\n",
      "- informer_mae: 89.08281508359042\n",
      "-----------------------------------\n",
      "Best validation model: test metrics\n",
      "-----------------------------------\n",
      "- total: 11780.0\n",
      "- rmse: 7.1360544926849006\n",
      "- mse: 27953.131218166385\n",
      "- mae: 125.22261745278014\n",
      "- informer_rmse: 149.85619936491312\n",
      "- informer_mse: 27586.590871710527\n",
      "- informer_mae: 124.9058767619886\n"
     ]
    },
    {
     "data": {
      "image/png": "[encoded data removed]",
      "text/plain": [
       "<Figure size 1920x480 with 3 Axes>"
      ]
     },
     "metadata": {},
     "output_type": "display_data"
    }
   ],
   "source": [
    "eval_splits = ['eval_train', 'val', 'test']\n",
    "eval_loaders = get_evaluation_loaders(dataloaders, batch_size=dataloader_configs.batch_size)\n",
    "eval_loaders_by_split = {split: eval_loaders[ix] for ix, split in\n",
    "                         enumerate(eval_splits)}\n",
    "model, log_metrics, total_y = evaluate_model(model, dataloaders=eval_loaders_by_split, \n",
    "                                             optimizer=optimizer, scheduler=scheduler, \n",
    "                                             criterions=eval_criterions, config=args,\n",
    "                                             epoch=args.best_val_metric_epoch, \n",
    "                                             input_transform=input_transform, \n",
    "                                             output_transform=output_transform,\n",
    "                                             val_metric=args.val_metric, wandb=None,\n",
    "                                             train=False)\n",
    "n_plots = len(splits) # train, val, test\n",
    "fig, axes = plt.subplots(1, n_plots, figsize=(6.4 * n_plots, 4.8))\n",
    "\n",
    "plot_forecasts(total_y, splits=eval_splits, axes=axes)"
   ]
  },
  {
   "cell_type": "markdown",
   "metadata": {
    "id": "aTwLZxvuFW0H"
   },
   "source": [
    "## Part 2. Creating a trading bot\n",
    "\n",
    "Great! If you're just interested in training SpaceTime for forecasting time-series, the above should suffice. \n",
    "\n",
    "However, we can also extend this demo further with our particular time-series data. \n",
    "\n",
    "Barring some sanity checks and further evaluations*, we'll now see if we can use the above to power a simple trading bot.\n",
    "\n",
    "Again, *none of this is financial advice*.\n",
    "\n",
    "<p></p>\n",
    "<p></p>\n",
    "<p></p>\n",
    "---\n",
    "\n",
    "*We'll look into some of this below. For example, is there actually predictable signal in our data, or is this the data just a random walk that SpaceTime is learning to follow (e.g., by predicting future time-steps as forward-lagged versions of the last input it sees)? \n",
    "* While we aim to mitigate this by predicting further out (e.g., horizon of 2 weeks vs 1 day), the above test set forecasts look oddly suspicious of this (which we're looking at for didactic purposes but in practice won't have *- another caveat to this demo!*)"
   ]
  },
  {
   "cell_type": "markdown",
   "metadata": {
    "id": "h-R9InhBFcN-"
   },
   "source": [
    "---\n",
    "\n",
    "### Part 2.1 Simple trading strategy\n",
    "\n",
    "We'll follow the age-old adage of buying low and selling high. This might be easier said than done, but we'll attempt this with a simple forecasting strategy.  \n",
    "\n",
    "We'll use our SpaceTime model to predict the stock price for some horizon into the future, given the available historical lag terms. \n",
    "\n",
    "#### Level 1: Long only trading\n",
    "We'll act on these forecasts with a simple one-sided buying strat:  \n",
    "* At any given time, if the forecasted price is higher than the current price (the last lag term in our input), **and** we have enough money to buy a single share at the current price, we'll buy (at the current price). \n",
    "\n",
    "* We'll then greedily ***hodl***, waiting until the current price ever reaches our predicted price. Once this happens, we'll sell our share bought at that predicted price.  \n",
    "  * If we want to be slightly more advanced / cautious, we can define a margin where the current price doesn't need to exactly cross the predicted price. Instead, as long as `current_price - margin >= predicted_price`, we'll sell. \n",
    "  * We could also explore other variations of this; e.g., closing out the position after the horizon number of days passes, regardless of if the current price crosses our predicted prices \n",
    "\n",
    "\n",
    "#### Level 2: Long + short trading\n",
    "We'll also extend the above with a bot that can short assets too. In that case, if the forecasted price is lower than the current price"
   ]
  },
  {
   "cell_type": "markdown",
   "metadata": {
    "id": "MnkWzwScIxCh"
   },
   "source": [
    "\n",
    "---\n",
    "\n",
    "### Part 2.2 Trading bot \n",
    "  \n",
    "We'll implement the above with the following trading bot class. \n",
    "\n",
    "This isn't optimized for anything. So go wild extending the boilerplate and trading strats if you want."
   ]
  },
  {
   "cell_type": "code",
   "execution_count": 54,
   "metadata": {
    "colab": {
     "background_save": true
    },
    "id": "bq8nFd-YG75N"
   },
   "outputs": [],
   "source": [
    "class TradingBot():\n",
    "    def __init__(self, \n",
    "                 initial_budget: int, \n",
    "                 margin: float=0,\n",
    "                 share_count: int=1,\n",
    "                 model: any=None,\n",
    "                 input_transform: any=None,\n",
    "                 output_transform: any=None,\n",
    "                 device: str='cuda:0'):\n",
    "        \"\"\"\n",
    "        Args:\n",
    "        - initial_budget: Budget we can trade with\n",
    "        - margin: Dollars below (above) the predicted price \n",
    "                  that we'll sell (buy) at\n",
    "        - share_count: Number of shares we'll trade if we want to and *can* trade\n",
    "        - model: Forecasting model\n",
    "        \"\"\"\n",
    "        super().__init__()\n",
    "        self.budget = [initial_budget]  # Keep track of budget over time\n",
    "        self.margin = margin\n",
    "        self.share_count = share_count\n",
    "        \n",
    "        # Logging\n",
    "        self.book = self.init_book()    # List of assets held\n",
    "        self.close_position_delta = []  # List of relative gains or losses after closing positions\n",
    "        self.log = []                   # List of all trades\n",
    "        \n",
    "        # Forecasting model\n",
    "        self.model = model\n",
    "        try: self.model.set_eval()  # Model might not be SpaceTime model\n",
    "        except: pass\n",
    "        transforms = self.init_transforms(input_transform,\n",
    "                                          output_transform)\n",
    "        self.input_transform, self.output_transform = transforms\n",
    "        self.device = torch.device(device)\n",
    "        \n",
    "    def init_book(self):\n",
    "        \"\"\"\n",
    "        Keeps track of the shares we bought and their prices\n",
    "        - We're not doing anything fancy here with sorted data structures,\n",
    "          someone else can implement that\n",
    "        \"\"\"\n",
    "        book = {'long': np.array([]),\n",
    "                'short': np.array([])}\n",
    "        return book\n",
    "    \n",
    "    def init_transforms(self, input_transform: any, \n",
    "                        output_transform: any):\n",
    "        if input_transform is None:\n",
    "            input_transform = lambda x: x\n",
    "        if output_transform is None:\n",
    "            output_transform = lambda x: x\n",
    "        return input_transform, output_transform\n",
    "        \n",
    "    def forecast(self, \n",
    "                 x: torch.Tensor) -> tuple[torch.Tensor, torch.Tensor]:\n",
    "        \"\"\"\n",
    "        Perform model inference on lag terms. \n",
    "        - See spacetime/train/step/informer.py for more details.\n",
    "        \n",
    "        Inputs:\n",
    "        - x: lag terms of shape (1, lag, 1) (batch, len, dim)\n",
    "        \n",
    "        Returns:\n",
    "        - Tuple of (current price, forecasted price)\n",
    "        \"\"\"\n",
    "        with torch.no_grad():\n",
    "            try:\n",
    "                self.model.to(self.device)\n",
    "            except:\n",
    "                pass\n",
    "            u = self.input_transform(x)\n",
    "            u = u.to(args.device)\n",
    "\n",
    "            y, _ = self.model(u)\n",
    "            y = self.output_transform(y[0]).cpu()\n",
    "            \n",
    "            y_curr = x[0, -1:, 0].item()\n",
    "            y_pred = y[0, -1:, 0].item()\n",
    "            return y_curr, y_pred\n",
    "        \n",
    "    def update_book(self):\n",
    "        # See child classes for implementation\n",
    "        raise NotImplementedError\n",
    "        \n",
    "    def trade(self):\n",
    "        # See child classes for implementation\n",
    "        raise NotImplementedError\n"
   ]
  },
  {
   "cell_type": "code",
   "execution_count": 55,
   "metadata": {
    "colab": {
     "background_save": true
    },
    "id": "UlnH6qiLIV70"
   },
   "outputs": [],
   "source": [
    "class LongBot(TradingBot):\n",
    "    def __init__(self, **kwargs):\n",
    "        super().__init__(**kwargs)\n",
    "    \n",
    "    def trade(self, lag_prices: torch.tensor, time: int):\n",
    "        \"\"\"\n",
    "        The long strat.\n",
    "        \"\"\"\n",
    "        # Forecast future price\n",
    "        curr_price, pred_price = self.forecast(lag_prices)\n",
    "        # Sell any bought shares where current price >= bought price\n",
    "        revenue, returns = self.update_long_book(curr_price, time)\n",
    "        self.budget.append(self.budget[-1] + revenue)\n",
    "        self.close_position_delta.append(returns)\n",
    "\n",
    "        # Buy any shares where predicted price > current price\n",
    "        cost = self.buy(curr_price, pred_price, time)\n",
    "        self.budget.append(self.budget[-1] - cost)\n",
    "        \n",
    "    def buy(self, curr_price: float, pred_price: float, time: int) -> float:\n",
    "        buy_price = curr_price * self.share_count\n",
    "        if (pred_price > curr_price and buy_price <= self.budget[-1]):\n",
    "            # No optimization here\n",
    "            self.book['long'] = np.insert(self.book['long'],\n",
    "                                          0, buy_price)\n",
    "            self.log.append({'trade': 'buy',\n",
    "                             'price': buy_price,\n",
    "                             'time': time})\n",
    "            return buy_price\n",
    "        return 0.\n",
    "    \n",
    "    def update_long_book(self, curr_price: float, time: int) -> float:\n",
    "        \"\"\"\n",
    "        Returns updated buy book, along with price any assets were sold at\n",
    "        \"\"\"\n",
    "        sell_indices = np.where(\n",
    "            curr_price - self.margin >= self.book['long'])[0]\n",
    "        sell_price = len(sell_indices) * curr_price\n",
    "        \n",
    "        # Compute returns from selling at current price - margin\n",
    "        if len(sell_indices) > 0:\n",
    "            returns = (curr_price - self.margin - self.book['long'][sell_indices]).sum()\n",
    "        else:\n",
    "            returns = 0\n",
    "\n",
    "        self.book['long'] = np.delete(self.book['long'], sell_indices)\n",
    "        if len(sell_indices) > 0:\n",
    "            self.log.append({'trade': 'sell',\n",
    "                             'price': sell_price,\n",
    "                             'returns': returns,\n",
    "                             'time': time})\n",
    "        return sell_price, returns\n",
    "        "
   ]
  },
  {
   "cell_type": "code",
   "execution_count": 56,
   "metadata": {
    "colab": {
     "background_save": true
    },
    "id": "9YlMks3QXon3"
   },
   "outputs": [],
   "source": [
    "class LongShortBot(LongBot):\n",
    "    def __init__(self, **kwargs):\n",
    "        super().__init__(**kwargs)\n",
    "    \n",
    "    def trade(self, lag_prices: torch.tensor, time: int):\n",
    "        \"\"\"\n",
    "        Bot can now long or short assets. Same workflow as before:\n",
    "        1. Forecast price\n",
    "        2. Greedily close-out any past positions\n",
    "        3. Enter new positions based on predictions and current price\n",
    "        \"\"\"\n",
    "        # Forecast future price\n",
    "        curr_price, pred_price = self.forecast(lag_prices)\n",
    "\n",
    "        # Sell any long shares where current price >= bought price\n",
    "        revenue, long_returns = self.update_long_book(curr_price, time)\n",
    "        # Buy back any short shares where current price <= sold price\n",
    "        cost, short_returns = self.update_short_book(curr_price, time)\n",
    "        self.budget.append(self.budget[-1] + revenue - cost)\n",
    "        self.close_position_delta.append(long_returns + short_returns)\n",
    "\n",
    "        # Buy any long shares where predicted price > current price\n",
    "        cost = self.long(curr_price, pred_price, time)\n",
    "        # Short any shares where predicted price < current price\n",
    "        revenue = self.short(curr_price, pred_price, time)\n",
    "        self.budget.append(self.budget[-1] + revenue - cost)\n",
    "        \n",
    "    def long(self, curr_price: float, pred_price: float, time: int) -> float:\n",
    "        return super().buy(curr_price, pred_price, time)\n",
    "\n",
    "    def short(self, curr_price: float, pred_price: float, time: int) -> float:\n",
    "        sell_price = curr_price * self.share_count\n",
    "        # We could be conservative here and only short if the price we borrow at \n",
    "        # is under our budget, but nah\n",
    "        if pred_price < curr_price:  #  and sell_price <= self.budget[-1]:  \n",
    "            # No optimization here\n",
    "            self.book['short'] = np.insert(self.book['short'], 0, sell_price)\n",
    "            self.log.append({'trade': 'short',\n",
    "                             'price': sell_price,\n",
    "                             'time': time})\n",
    "            return sell_price\n",
    "        return 0.\n",
    "\n",
    "    def update_long_book(self, curr_price: float, time: int) -> float:\n",
    "        return super().update_long_book(curr_price, time)\n",
    "    \n",
    "    def update_short_book(self, curr_price: float, time: int) -> float:\n",
    "        buy_indices = np.where(\n",
    "            curr_price + self.margin <= self.book['short'])[0]\n",
    "        buy_back_price = len(buy_indices) * curr_price\n",
    "\n",
    "        # Compute returns from buying at current price + margin\n",
    "        if len(buy_indices) > 0:\n",
    "            returns = (self.book['short'][buy_indices] - curr_price - self.margin).sum()\n",
    "        else:\n",
    "            returns = 0.\n",
    "        \n",
    "        self.book['short'] = np.delete(self.book['short'], buy_indices)\n",
    "        if len(buy_indices) > 0:\n",
    "            self.log.append({'trade': 'buy_back',\n",
    "                             'price': buy_back_price,\n",
    "                             'returns': returns,\n",
    "                             'time': time})\n",
    "        return buy_back_price, returns\n",
    "        "
   ]
  },
  {
   "cell_type": "markdown",
   "metadata": {
    "id": "Lt4AyVK4IZLa"
   },
   "source": [
    "### Part 2.3 Trading bot evaluation\n",
    "\n",
    "#### Single-batch dataloading\n",
    "Because we want a bot that can trade as data comes in, we'll set up a single-batch dataloader for our val and test sets (as opposed to the minibatch setup we did before, which would include future values)"
   ]
  },
  {
   "cell_type": "code",
   "execution_count": 57,
   "metadata": {
    "colab": {
     "background_save": true
    },
    "id": "CfJzOICtI9IG",
    "outputId": "d3b27ab9-4aa9-40b7-e384-b7c52b205cf7"
   },
   "outputs": [],
   "source": [
    "val_loader_sb = DataLoader(val_loader.dataset, shuffle=False, \n",
    "                           batch_size=1, num_workers=10)\n",
    "test_loader_sb = DataLoader(test_loader.dataset, shuffle=False, \n",
    "                            batch_size=1, num_workers=10)"
   ]
  },
  {
   "cell_type": "markdown",
   "metadata": {
    "id": "2cLGY0YRKyDm"
   },
   "source": [
    "#### Trading and return functions"
   ]
  },
  {
   "cell_type": "code",
   "execution_count": 58,
   "metadata": {
    "colab": {
     "background_save": true
    },
    "id": "U7ESlFVqKvxL"
   },
   "outputs": [],
   "source": [
    "def run_trading_session(bot, dataloader):\n",
    "    # Run trading\n",
    "    for ix, data in enumerate(dataloader):\n",
    "        x, y, *z = data\n",
    "        x = x[:, :args.lag, :]\n",
    "        bot.trade(x, ix)\n",
    "        \n",
    "    # Fill out any remaining trades\n",
    "    for ix, _y in enumerate(y[0, :, 0]):\n",
    "        time = ix + bot.log[-1]['time'] if len(bot.log) > 0 else ix\n",
    "        revenue, long_returns = bot.update_long_book(_y.item(), time)\n",
    "        budget = bot.budget[-1]\n",
    "        bot.budget.append(budget + revenue)\n",
    "        bot.close_position_delta.append(long_returns)\n",
    "        try:  # Hacks, only applies to bots that can short assets\n",
    "            cost, short_returns = bot.update_short_book(_y.item(), time)\n",
    "            budget = bot.budget[-1]\n",
    "            bot.budget.append(budget - cost)\n",
    "            bot.close_position_delta.append(short_returns)\n",
    "        except:\n",
    "            pass\n",
    "\n",
    "    # Sell any long positions\n",
    "    for price in bot.book['long']:   # The price initially bought at\n",
    "        budget = bot.budget[-1]\n",
    "        bot.budget.append(budget + _y )  # Sell at current price\n",
    "        bot.close_position_delta.append(_y - price)  # Positive if current > bought_price\n",
    "        bot.log.append({'trade': 'sell',\n",
    "                        'price': _y,\n",
    "                        'returns': _y - price,\n",
    "                        'time': time})\n",
    "\n",
    "    # Buy back any short positions\n",
    "    for price in bot.book['short']:  # The price initially sold at\n",
    "        budget = bot.budget[-1]  \n",
    "        bot.budget.append(budget - _y)  # Buy back at current price\n",
    "        bot.close_position_delta.append(price - _y)  # Positive if current < sold at\n",
    "        bot.log.append({'trade': 'buy_back',\n",
    "                        'price': _y,\n",
    "                        'returns': price - _y,\n",
    "                        'time': time})\n",
    "        \n",
    "    return bot\n",
    "    "
   ]
  },
  {
   "cell_type": "code",
   "execution_count": 59,
   "metadata": {
    "colab": {
     "background_save": true
    },
    "id": "RDd4b2RxK5zn"
   },
   "outputs": [],
   "source": [
    "def compute_positive_returns(bot, initial_budget):\n",
    "    pos_returns = [0]\n",
    "    for b in bot.budget:\n",
    "        if b > initial_budget:\n",
    "            pos_returns.append(b - initial_budget)\n",
    "        else:\n",
    "            pos_returns.append(pos_returns[-1])\n",
    "    return pos_returns"
   ]
  },
  {
   "cell_type": "markdown",
   "metadata": {
    "id": "UuUMpzn8L6C7"
   },
   "source": [
    "#### Set baselines and alternatives\n",
    "\n",
    "To get a better sense of how we actually do, we'll compare against three alternatives for trading.\n",
    "1. **Last lag forecasts**: We'll adopt the same forecast-driven approach as above. But now, we'll just predict future prices as the last available lag terms (i.e., the most recent prices, reflecting an optimal approach if the data is truly a random walk). More on this below*\n",
    "  * Note that this bot will never actually trade with the above strategy, because we're predicting that the price will remain the same.\n",
    "  * This can still give us a sense of if our trained SpaceTime model is actually learning any useful signal (do we do better than not doing anything at all). \n",
    "\n",
    "2. **Trending lag forecasts**: We'll do the same as above, but to actually make some trades, we'll look back the same number of terms we're trying to predict out (e.g., the horizon), compute a mean trend, and apply this to the last lag term to predict our horizon.\n",
    "\n",
    "3. **Buying and holding / Hodling**: We'll just go long on the asset 🚀🌕.\n",
    "\n",
    "<p></p>\n",
    "---\n",
    "\n",
    "##### *Last lag forecasting\n",
    "One (hidden) failure mode might be that the model might just be using the last lag terms as predictions for the horizon terms (e.g., as noted in this [demo training an LSTM to predict stock price data](https://towardsdatascience.com/how-not-to-predict-stock-prices-with-lstms-a51f564ccbca)). In other words, we're just predicting prices close to the last prices seen. \n",
    "* Now if the data truly is unpredictable as a random walk, then we'd actually expect this kind of behavior. However, this also means our model isn't able to learn anything useful dependencies between historical and future data to predict future prices.  \n"
   ]
  },
  {
   "cell_type": "code",
   "execution_count": null,
   "metadata": {
    "colab": {
     "background_save": true
    },
    "id": "muuz_MjyQ5eD"
   },
   "outputs": [],
   "source": [
    "class LastLagBot(LongShortBot):\n",
    "    \"\"\"\n",
    "    Trading bot that uses the current price as forecasts for future prices,\n",
    "    and trades based on these predictions.\n",
    "    - In reality, a last lag bot will never trade\n",
    "    \"\"\"\n",
    "    def __init__(self, **kwargs):\n",
    "        super().__init__(**kwargs)\n",
    "\n",
    "    def forecast(self, x: torch.Tensor) -> tuple[torch.Tensor, torch.Tensor]:\n",
    "        \"\"\"\n",
    "        Only method we override. Instead of using a trained model, we'll\n",
    "        just predict the current price (last lag input) to be the future price\n",
    "        - But then the bot will never trade\n",
    "        \"\"\"\n",
    "        y_curr = x[0, -1:, 0].item()\n",
    "        y_pred = y_curr\n",
    "        return y_curr, y_pred\n"
   ]
  },
  {
   "cell_type": "code",
   "execution_count": null,
   "metadata": {
    "colab": {
     "background_save": true
    },
    "id": "FbogDu5rNXo0"
   },
   "outputs": [],
   "source": [
    "class TrendLagBot(LongShortBot):\n",
    "    \"\"\"\n",
    "    Trading bot that uses the current price as forecasts for future prices,\n",
    "    and trades based on these predictions.\n",
    "    - In reality, a last lag bot will never trade\n",
    "    \"\"\"\n",
    "    def __init__(self, trend_window, **kwargs):\n",
    "        assert trend_window >= 0\n",
    "        self.trend_window = trend_window\n",
    "        super().__init__(**kwargs)\n",
    "\n",
    "    def forecast(self, x: torch.Tensor) -> tuple[torch.Tensor, torch.Tensor]:\n",
    "        \"\"\"\n",
    "        Only method we override. Instead of using a trained model, we'll\n",
    "        just predict the current price (last lag input) to be the future price\n",
    "        - But then the bot will never trade\n",
    "        \"\"\"\n",
    "        y_curr = x[0, -1:, 0].item()\n",
    "        trend_window = min(self.trend_window, x.shape[1])  # Assume x is shape B x L x D\n",
    "        y_pred = y_curr + max(y_curr - x[0, -trend_window, 0].item(), 0) \n",
    "        return y_curr, y_pred\n"
   ]
  },
  {
   "cell_type": "code",
   "execution_count": null,
   "metadata": {
    "colab": {
     "background_save": true
    },
    "id": "fwKy0ovASVPf"
   },
   "outputs": [],
   "source": [
    "class HODLBot(LongBot):\n",
    "    \"\"\"\n",
    "    Trading bot that just buys and holds. To reflect this position over time, \n",
    "    we always predict that price will go up.\n",
    "    \"\"\"\n",
    "    def __init__(self, **kwargs):\n",
    "        super().__init__(**kwargs)\n",
    "\n",
    "    def forecast(self, x: torch.Tensor) -> tuple[torch.Tensor, torch.Tensor]:\n",
    "        \"\"\"\n",
    "        Only method we override. Instead of using a trained model, we'll\n",
    "        just predict the current price (last lag input) to be the future price\n",
    "        - But then the bot will never trade\n",
    "        \"\"\"\n",
    "        y_curr = x[0, -1:, 0].item()\n",
    "        y_pred = y_curr + 1  # Reflect positivity + belief that price will go up\n",
    "        return y_curr, y_pred\n"
   ]
  },
  {
   "cell_type": "markdown",
   "metadata": {
    "id": "uG-RWbopUbEG"
   },
   "source": [
    "### Part 2.4 Trading time\n",
    "\n",
    "We'll compare the performance of a long-only SpaceTime trading bot, and a SpaceTime bot that can take long and short positions, with the above baselines."
   ]
  },
  {
   "cell_type": "code",
   "execution_count": null,
   "metadata": {
    "colab": {
     "background_save": true
    },
    "id": "tXOwiyLhUL0e"
   },
   "outputs": [],
   "source": [
    "initial_budget = 10000        # Standard brokerage\n",
    "margin = 0                    # Keep things simple\n",
    "eval_loader = test_loader_sb  # Evaluate on test dates\n",
    "\n",
    "# Initialize trading bots\n",
    "spacetime_long_bot = LongBot(initial_budget=initial_budget, \n",
    "                             margin=margin,\n",
    "                             share_count=1,\n",
    "                             model=model,\n",
    "                             input_transform=input_transform,\n",
    "                             output_transform=output_transform,\n",
    "                             device=args.device)\n",
    "\n",
    "spacetime_longshort_bot = LongShortBot(initial_budget=initial_budget, \n",
    "                                       margin=margin,\n",
    "                                       share_count=1,\n",
    "                                       model=model,\n",
    "                                       input_transform=input_transform,\n",
    "                                       output_transform=output_transform,\n",
    "                                       device=args.device)\n",
    "\n",
    "last_lag_bot = LastLagBot(initial_budget=initial_budget, \n",
    "                          margin=margin,\n",
    "                          share_count=1,\n",
    "                          model=None,\n",
    "                          input_transform=None,\n",
    "                          output_transform=None,\n",
    "                          device='cpu')\n",
    "\n",
    "trend_lag_bot = TrendLagBot(initial_budget=initial_budget, \n",
    "                            margin=margin,\n",
    "                            share_count=1,\n",
    "                            trend_window=args.horizon,\n",
    "                            model=None,\n",
    "                            input_transform=None,\n",
    "                            output_transform=None,\n",
    "                            device='cpu')\n",
    "\n",
    "hodl_bot = HODLBot(initial_budget=initial_budget, \n",
    "                   margin=margin,\n",
    "                   share_count=1,\n",
    "                   model=None,\n",
    "                   input_transform=None,\n",
    "                   output_transform=None,\n",
    "                   device='cpu')\n",
    "\n",
    "# Run trading session\n",
    "spacetime_long_bot = run_trading_session(spacetime_long_bot, eval_loader)\n",
    "spacetime_longshort_bot = run_trading_session(spacetime_longshort_bot, eval_loader)\n",
    "last_lag_bot = run_trading_session(last_lag_bot, eval_loader)\n",
    "trend_lag_bot = run_trading_session(trend_lag_bot, eval_loader)\n",
    "hodl_bot = run_trading_session(hodl_bot, eval_loader)"
   ]
  },
  {
   "cell_type": "code",
   "execution_count": null,
   "metadata": {
    "colab": {
     "background_save": true
    },
    "id": "M47o8iq5K_pL",
    "outputId": "c65af657-3636-4492-b6da-10d38d425ff9"
   },
   "outputs": [
    {
     "data": {
      "image/png": "[encoded data removed]",
      "text/plain": [
       "<Figure size 432x288 with 1 Axes>"
      ]
     },
     "metadata": {},
     "output_type": "display_data"
    }
   ],
   "source": [
    "## Budget over time\n",
    "plt.plot(spacetime_long_bot.budget, label='SpaceTime')\n",
    "plt.plot(spacetime_longshort_bot.budget, label='SpaceTime LS')\n",
    "plt.plot(last_lag_bot.budget, label='Last Lag (no trade)', linestyle='--')\n",
    "plt.plot(trend_lag_bot.budget, label='Trend')\n",
    "plt.plot(hodl_bot.budget, label='HODL', linestyle='-.')\n",
    "plt.title('Budget with trades over time')\n",
    "plt.legend()\n",
    "plt.show()"
   ]
  },
  {
   "cell_type": "code",
   "execution_count": null,
   "metadata": {
    "colab": {
     "background_save": true
    },
    "id": "Mkts7iAzPpi9",
    "outputId": "3e1fe500-0f50-48b6-d716-d9f4234a3477"
   },
   "outputs": [
    {
     "data": {
      "image/png": "[encoded data removed]",
      "text/plain": [
       "<Figure size 432x288 with 1 Axes>"
      ]
     },
     "metadata": {},
     "output_type": "display_data"
    }
   ],
   "source": [
    "# Plot cumulative close position deltas over time\n",
    "plt.plot(np.cumsum(spacetime_long_bot.close_position_delta), label='SpaceTime')\n",
    "plt.plot(np.cumsum(spacetime_longshort_bot.close_position_delta), label='SpaceTime LS')\n",
    "plt.plot(np.cumsum(last_lag_bot.close_position_delta), label='Last Lag (no trade)', linestyle='--')\n",
    "plt.plot(np.cumsum(trend_lag_bot.close_position_delta), label='Trend')\n",
    "plt.plot(np.cumsum(hodl_bot.close_position_delta), label='HODL', linestyle='-.')\n",
    "plt.title('Close position delta over time')\n",
    "plt.legend()\n",
    "plt.show()"
   ]
  },
  {
   "cell_type": "code",
   "execution_count": null,
   "metadata": {
    "colab": {
     "background_save": true
    },
    "id": "i9DAdK5LL-MN",
    "outputId": "3bf63d2b-eec5-411c-d474-c10d31632c75"
   },
   "outputs": [
    {
     "name": "stderr",
     "output_type": "stream",
     "text": [
      "<ipython-input-64-202da85433c2>:11: MatplotlibDeprecationWarning: Unable to determine Axes to steal space for Colorbar. Using gca(), but will raise in the future. Either provide the *cax* argument to use as the Axes for the Colorbar, provide the *ax* argument to steal space from it, or add *mappable* to an Axes.\n",
      "  plt.colorbar(plot)\n"
     ]
    },
    {
     "data": {
      "image/png": "[encoded data removed]",
      "text/plain": [
       "<Figure size 576x360 with 2 Axes>"
      ]
     },
     "metadata": {},
     "output_type": "display_data"
    }
   ],
   "source": [
    "bots = ['SpaceTime \\n(Long only)', 'SpaceTime', 'No trade', 'Trend', 'HODL']\n",
    "deltas = [np.cumsum(spacetime_long_bot.close_position_delta)[-1],\n",
    "          np.cumsum(spacetime_longshort_bot.close_position_delta)[-1],\n",
    "          np.cumsum(last_lag_bot.close_position_delta)[-1],\n",
    "          np.cumsum(trend_lag_bot.close_position_delta)[-1],\n",
    "          np.cumsum(hodl_bot.close_position_delta)[-1]]\n",
    "\n",
    "fig = plt.figure(figsize = (8, 5))\n",
    "plot = plt.scatter(deltas, deltas, c = deltas, cmap = 'coolwarm_r')\n",
    "plt.clf()\n",
    "plt.colorbar(plot)\n",
    "plt.bar(bots, deltas, width = 0.4, color=plt.cm.coolwarm_r(deltas),\n",
    "        edgecolor='black')\n",
    "plt.axhline(y=0, linewidth=1, color='k')\n",
    "plt.title('Relative position after trading')\n",
    "plt.show()"
   ]
  },
  {
   "cell_type": "code",
   "execution_count": null,
   "metadata": {
    "colab": {
     "background_save": true
    },
    "id": "A_BnzPDDUNoy",
    "outputId": "5fafc54d-a71b-47a3-ba46-9588adc0090f"
   },
   "outputs": [
    {
     "data": {
      "image/png": "[encoded data removed]",
      "text/plain": [
       "<Figure size 432x288 with 1 Axes>"
      ]
     },
     "metadata": {},
     "output_type": "display_data"
    },
    {
     "name": "stderr",
     "output_type": "stream",
     "text": [
      "<ipython-input-65-184b4774dbe3>:28: MatplotlibDeprecationWarning: Unable to determine Axes to steal space for Colorbar. Using gca(), but will raise in the future. Either provide the *cax* argument to use as the Axes for the Colorbar, provide the *ax* argument to steal space from it, or add *mappable* to an Axes.\n",
      "  plt.colorbar(plot)\n"
     ]
    },
    {
     "data": {
      "image/png": "[encoded data removed]",
      "text/plain": [
       "<Figure size 576x360 with 2 Axes>"
      ]
     },
     "metadata": {},
     "output_type": "display_data"
    }
   ],
   "source": [
    "## More fun, play around with trading margin\n",
    "initial_budget = 10000        # Standard brokerage\n",
    "eval_loader = test_loader_sb  # Evaluate on test dates\n",
    "\n",
    "margins = [0, 10, 20, 30, 40, 50]\n",
    "bots = []\n",
    "for margin in margins:\n",
    "    spacetime_longshort_bot = LongShortBot(initial_budget=initial_budget, \n",
    "                                           margin=margin,\n",
    "                                           share_count=1,\n",
    "                                           model=model,\n",
    "                                           input_transform=input_transform,\n",
    "                                           output_transform=output_transform,\n",
    "                                           device=args.device)\n",
    "    spacetime_longshort_bot = run_trading_session(spacetime_longshort_bot, eval_loader)\n",
    "    bots.append(spacetime_longshort_bot)\n",
    "\n",
    "    plt.plot(np.cumsum(spacetime_longshort_bot.close_position_delta), label=f'margin={margin}')\n",
    "plt.title('Close position delta over time')\n",
    "plt.legend()\n",
    "plt.show()\n",
    "\n",
    "deltas = [np.cumsum(bot.close_position_delta)[-1] for bot in bots]\n",
    "\n",
    "fig = plt.figure(figsize = (8, 5))\n",
    "plot = plt.scatter(deltas, deltas, c = deltas, cmap = 'coolwarm_r')\n",
    "plt.clf()\n",
    "plt.colorbar(plot)\n",
    "plt.bar([str(m) for m in margins], deltas, width = 0.4, color=plt.cm.coolwarm_r(deltas),\n",
    "        edgecolor='black')\n",
    "plt.axhline(y=0, linewidth=1, color='k')\n",
    "plt.title('Relative position after trading')\n",
    "plt.show()\n",
    "\n"
   ]
  },
  {
   "cell_type": "code",
   "execution_count": null,
   "metadata": {
    "colab": {
     "background_save": true
    },
    "id": "G-wuK71X-zsV"
   },
   "outputs": [],
   "source": []
  }
 ],
 "metadata": {
  "accelerator": "GPU",
  "colab": {
   "provenance": [],
   "toc_visible": true
  },
  "gpuClass": "standard",
  "kernelspec": {
   "display_name": "Python 3 (ipykernel)",
   "language": "python",
   "name": "python3"
  },
  "language_info": {
   "codemirror_mode": {
    "name": "ipython",
    "version": 3
   },
   "file_extension": ".py",
   "mimetype": "text/x-python",
   "name": "python",
   "nbconvert_exporter": "python",
   "pygments_lexer": "ipython3",
   "version": "3.9.16"
  }
 },
 "nbformat": 4,
 "nbformat_minor": 1
}
